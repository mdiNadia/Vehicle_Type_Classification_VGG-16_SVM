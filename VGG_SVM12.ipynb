{
  "cells": [
    {
      "cell_type": "markdown",
      "source": [
        "#Load Data"
      ],
      "metadata": {
        "id": "GExNoYS26BM0"
      }
    },
    {
      "cell_type": "code",
      "execution_count": null,
      "metadata": {
        "id": "YEffgwCRx0jH"
      },
      "outputs": [],
      "source": [
        "# !rm -rf /content/*"
      ]
    },
    {
      "cell_type": "code",
      "execution_count": 1,
      "metadata": {
        "colab": {
          "base_uri": "https://localhost:8080/"
        },
        "id": "w9KMYpYQ0Pyy",
        "outputId": "3e573ebe-c635-4905-ca06-7021c7dd2179"
      },
      "outputs": [
        {
          "output_type": "stream",
          "name": "stdout",
          "text": [
            "Requirement already satisfied: torchvision in /usr/local/lib/python3.11/dist-packages (0.21.0+cu124)\n",
            "Requirement already satisfied: scikit-learn in /usr/local/lib/python3.11/dist-packages (1.6.1)\n",
            "Requirement already satisfied: numpy in /usr/local/lib/python3.11/dist-packages (from torchvision) (2.0.2)\n",
            "Requirement already satisfied: torch==2.6.0 in /usr/local/lib/python3.11/dist-packages (from torchvision) (2.6.0+cu124)\n",
            "Requirement already satisfied: pillow!=8.3.*,>=5.3.0 in /usr/local/lib/python3.11/dist-packages (from torchvision) (11.1.0)\n",
            "Requirement already satisfied: filelock in /usr/local/lib/python3.11/dist-packages (from torch==2.6.0->torchvision) (3.18.0)\n",
            "Requirement already satisfied: typing-extensions>=4.10.0 in /usr/local/lib/python3.11/dist-packages (from torch==2.6.0->torchvision) (4.13.2)\n",
            "Requirement already satisfied: networkx in /usr/local/lib/python3.11/dist-packages (from torch==2.6.0->torchvision) (3.4.2)\n",
            "Requirement already satisfied: jinja2 in /usr/local/lib/python3.11/dist-packages (from torch==2.6.0->torchvision) (3.1.6)\n",
            "Requirement already satisfied: fsspec in /usr/local/lib/python3.11/dist-packages (from torch==2.6.0->torchvision) (2025.3.2)\n",
            "Collecting nvidia-cuda-nvrtc-cu12==12.4.127 (from torch==2.6.0->torchvision)\n",
            "  Downloading nvidia_cuda_nvrtc_cu12-12.4.127-py3-none-manylinux2014_x86_64.whl.metadata (1.5 kB)\n",
            "Collecting nvidia-cuda-runtime-cu12==12.4.127 (from torch==2.6.0->torchvision)\n",
            "  Downloading nvidia_cuda_runtime_cu12-12.4.127-py3-none-manylinux2014_x86_64.whl.metadata (1.5 kB)\n",
            "Collecting nvidia-cuda-cupti-cu12==12.4.127 (from torch==2.6.0->torchvision)\n",
            "  Downloading nvidia_cuda_cupti_cu12-12.4.127-py3-none-manylinux2014_x86_64.whl.metadata (1.6 kB)\n",
            "Collecting nvidia-cudnn-cu12==9.1.0.70 (from torch==2.6.0->torchvision)\n",
            "  Downloading nvidia_cudnn_cu12-9.1.0.70-py3-none-manylinux2014_x86_64.whl.metadata (1.6 kB)\n",
            "Collecting nvidia-cublas-cu12==12.4.5.8 (from torch==2.6.0->torchvision)\n",
            "  Downloading nvidia_cublas_cu12-12.4.5.8-py3-none-manylinux2014_x86_64.whl.metadata (1.5 kB)\n",
            "Collecting nvidia-cufft-cu12==11.2.1.3 (from torch==2.6.0->torchvision)\n",
            "  Downloading nvidia_cufft_cu12-11.2.1.3-py3-none-manylinux2014_x86_64.whl.metadata (1.5 kB)\n",
            "Collecting nvidia-curand-cu12==10.3.5.147 (from torch==2.6.0->torchvision)\n",
            "  Downloading nvidia_curand_cu12-10.3.5.147-py3-none-manylinux2014_x86_64.whl.metadata (1.5 kB)\n",
            "Collecting nvidia-cusolver-cu12==11.6.1.9 (from torch==2.6.0->torchvision)\n",
            "  Downloading nvidia_cusolver_cu12-11.6.1.9-py3-none-manylinux2014_x86_64.whl.metadata (1.6 kB)\n",
            "Collecting nvidia-cusparse-cu12==12.3.1.170 (from torch==2.6.0->torchvision)\n",
            "  Downloading nvidia_cusparse_cu12-12.3.1.170-py3-none-manylinux2014_x86_64.whl.metadata (1.6 kB)\n",
            "Requirement already satisfied: nvidia-cusparselt-cu12==0.6.2 in /usr/local/lib/python3.11/dist-packages (from torch==2.6.0->torchvision) (0.6.2)\n",
            "Requirement already satisfied: nvidia-nccl-cu12==2.21.5 in /usr/local/lib/python3.11/dist-packages (from torch==2.6.0->torchvision) (2.21.5)\n",
            "Requirement already satisfied: nvidia-nvtx-cu12==12.4.127 in /usr/local/lib/python3.11/dist-packages (from torch==2.6.0->torchvision) (12.4.127)\n",
            "Collecting nvidia-nvjitlink-cu12==12.4.127 (from torch==2.6.0->torchvision)\n",
            "  Downloading nvidia_nvjitlink_cu12-12.4.127-py3-none-manylinux2014_x86_64.whl.metadata (1.5 kB)\n",
            "Requirement already satisfied: triton==3.2.0 in /usr/local/lib/python3.11/dist-packages (from torch==2.6.0->torchvision) (3.2.0)\n",
            "Requirement already satisfied: sympy==1.13.1 in /usr/local/lib/python3.11/dist-packages (from torch==2.6.0->torchvision) (1.13.1)\n",
            "Requirement already satisfied: mpmath<1.4,>=1.1.0 in /usr/local/lib/python3.11/dist-packages (from sympy==1.13.1->torch==2.6.0->torchvision) (1.3.0)\n",
            "Requirement already satisfied: scipy>=1.6.0 in /usr/local/lib/python3.11/dist-packages (from scikit-learn) (1.14.1)\n",
            "Requirement already satisfied: joblib>=1.2.0 in /usr/local/lib/python3.11/dist-packages (from scikit-learn) (1.4.2)\n",
            "Requirement already satisfied: threadpoolctl>=3.1.0 in /usr/local/lib/python3.11/dist-packages (from scikit-learn) (3.6.0)\n",
            "Requirement already satisfied: MarkupSafe>=2.0 in /usr/local/lib/python3.11/dist-packages (from jinja2->torch==2.6.0->torchvision) (3.0.2)\n",
            "Downloading nvidia_cublas_cu12-12.4.5.8-py3-none-manylinux2014_x86_64.whl (363.4 MB)\n",
            "\u001b[2K   \u001b[90m━━━━━━━━━━━━━━━━━━━━━━━━━━━━━━━━━━━━━━━━\u001b[0m \u001b[32m363.4/363.4 MB\u001b[0m \u001b[31m3.0 MB/s\u001b[0m eta \u001b[36m0:00:00\u001b[0m\n",
            "\u001b[?25hDownloading nvidia_cuda_cupti_cu12-12.4.127-py3-none-manylinux2014_x86_64.whl (13.8 MB)\n",
            "\u001b[2K   \u001b[90m━━━━━━━━━━━━━━━━━━━━━━━━━━━━━━━━━━━━━━━━\u001b[0m \u001b[32m13.8/13.8 MB\u001b[0m \u001b[31m81.0 MB/s\u001b[0m eta \u001b[36m0:00:00\u001b[0m\n",
            "\u001b[?25hDownloading nvidia_cuda_nvrtc_cu12-12.4.127-py3-none-manylinux2014_x86_64.whl (24.6 MB)\n",
            "\u001b[2K   \u001b[90m━━━━━━━━━━━━━━━━━━━━━━━━━━━━━━━━━━━━━━━━\u001b[0m \u001b[32m24.6/24.6 MB\u001b[0m \u001b[31m64.0 MB/s\u001b[0m eta \u001b[36m0:00:00\u001b[0m\n",
            "\u001b[?25hDownloading nvidia_cuda_runtime_cu12-12.4.127-py3-none-manylinux2014_x86_64.whl (883 kB)\n",
            "\u001b[2K   \u001b[90m━━━━━━━━━━━━━━━━━━━━━━━━━━━━━━━━━━━━━━━━\u001b[0m \u001b[32m883.7/883.7 kB\u001b[0m \u001b[31m42.1 MB/s\u001b[0m eta \u001b[36m0:00:00\u001b[0m\n",
            "\u001b[?25hDownloading nvidia_cudnn_cu12-9.1.0.70-py3-none-manylinux2014_x86_64.whl (664.8 MB)\n",
            "\u001b[2K   \u001b[90m━━━━━━━━━━━━━━━━━━━━━━━━━━━━━━━━━━━━━━━━\u001b[0m \u001b[32m664.8/664.8 MB\u001b[0m \u001b[31m2.0 MB/s\u001b[0m eta \u001b[36m0:00:00\u001b[0m\n",
            "\u001b[?25hDownloading nvidia_cufft_cu12-11.2.1.3-py3-none-manylinux2014_x86_64.whl (211.5 MB)\n",
            "\u001b[2K   \u001b[90m━━━━━━━━━━━━━━━━━━━━━━━━━━━━━━━━━━━━━━━━\u001b[0m \u001b[32m211.5/211.5 MB\u001b[0m \u001b[31m5.6 MB/s\u001b[0m eta \u001b[36m0:00:00\u001b[0m\n",
            "\u001b[?25hDownloading nvidia_curand_cu12-10.3.5.147-py3-none-manylinux2014_x86_64.whl (56.3 MB)\n",
            "\u001b[2K   \u001b[90m━━━━━━━━━━━━━━━━━━━━━━━━━━━━━━━━━━━━━━━━\u001b[0m \u001b[32m56.3/56.3 MB\u001b[0m \u001b[31m12.2 MB/s\u001b[0m eta \u001b[36m0:00:00\u001b[0m\n",
            "\u001b[?25hDownloading nvidia_cusolver_cu12-11.6.1.9-py3-none-manylinux2014_x86_64.whl (127.9 MB)\n",
            "\u001b[2K   \u001b[90m━━━━━━━━━━━━━━━━━━━━━━━━━━━━━━━━━━━━━━━━\u001b[0m \u001b[32m127.9/127.9 MB\u001b[0m \u001b[31m7.7 MB/s\u001b[0m eta \u001b[36m0:00:00\u001b[0m\n",
            "\u001b[?25hDownloading nvidia_cusparse_cu12-12.3.1.170-py3-none-manylinux2014_x86_64.whl (207.5 MB)\n",
            "\u001b[2K   \u001b[90m━━━━━━━━━━━━━━━━━━━━━━━━━━━━━━━━━━━━━━━━\u001b[0m \u001b[32m207.5/207.5 MB\u001b[0m \u001b[31m6.5 MB/s\u001b[0m eta \u001b[36m0:00:00\u001b[0m\n",
            "\u001b[?25hDownloading nvidia_nvjitlink_cu12-12.4.127-py3-none-manylinux2014_x86_64.whl (21.1 MB)\n",
            "\u001b[2K   \u001b[90m━━━━━━━━━━━━━━━━━━━━━━━━━━━━━━━━━━━━━━━━\u001b[0m \u001b[32m21.1/21.1 MB\u001b[0m \u001b[31m75.6 MB/s\u001b[0m eta \u001b[36m0:00:00\u001b[0m\n",
            "\u001b[?25hInstalling collected packages: nvidia-nvjitlink-cu12, nvidia-curand-cu12, nvidia-cufft-cu12, nvidia-cuda-runtime-cu12, nvidia-cuda-nvrtc-cu12, nvidia-cuda-cupti-cu12, nvidia-cublas-cu12, nvidia-cusparse-cu12, nvidia-cudnn-cu12, nvidia-cusolver-cu12\n",
            "  Attempting uninstall: nvidia-nvjitlink-cu12\n",
            "    Found existing installation: nvidia-nvjitlink-cu12 12.5.82\n",
            "    Uninstalling nvidia-nvjitlink-cu12-12.5.82:\n",
            "      Successfully uninstalled nvidia-nvjitlink-cu12-12.5.82\n",
            "  Attempting uninstall: nvidia-curand-cu12\n",
            "    Found existing installation: nvidia-curand-cu12 10.3.6.82\n",
            "    Uninstalling nvidia-curand-cu12-10.3.6.82:\n",
            "      Successfully uninstalled nvidia-curand-cu12-10.3.6.82\n",
            "  Attempting uninstall: nvidia-cufft-cu12\n",
            "    Found existing installation: nvidia-cufft-cu12 11.2.3.61\n",
            "    Uninstalling nvidia-cufft-cu12-11.2.3.61:\n",
            "      Successfully uninstalled nvidia-cufft-cu12-11.2.3.61\n",
            "  Attempting uninstall: nvidia-cuda-runtime-cu12\n",
            "    Found existing installation: nvidia-cuda-runtime-cu12 12.5.82\n",
            "    Uninstalling nvidia-cuda-runtime-cu12-12.5.82:\n",
            "      Successfully uninstalled nvidia-cuda-runtime-cu12-12.5.82\n",
            "  Attempting uninstall: nvidia-cuda-nvrtc-cu12\n",
            "    Found existing installation: nvidia-cuda-nvrtc-cu12 12.5.82\n",
            "    Uninstalling nvidia-cuda-nvrtc-cu12-12.5.82:\n",
            "      Successfully uninstalled nvidia-cuda-nvrtc-cu12-12.5.82\n",
            "  Attempting uninstall: nvidia-cuda-cupti-cu12\n",
            "    Found existing installation: nvidia-cuda-cupti-cu12 12.5.82\n",
            "    Uninstalling nvidia-cuda-cupti-cu12-12.5.82:\n",
            "      Successfully uninstalled nvidia-cuda-cupti-cu12-12.5.82\n",
            "  Attempting uninstall: nvidia-cublas-cu12\n",
            "    Found existing installation: nvidia-cublas-cu12 12.5.3.2\n",
            "    Uninstalling nvidia-cublas-cu12-12.5.3.2:\n",
            "      Successfully uninstalled nvidia-cublas-cu12-12.5.3.2\n",
            "  Attempting uninstall: nvidia-cusparse-cu12\n",
            "    Found existing installation: nvidia-cusparse-cu12 12.5.1.3\n",
            "    Uninstalling nvidia-cusparse-cu12-12.5.1.3:\n",
            "      Successfully uninstalled nvidia-cusparse-cu12-12.5.1.3\n",
            "  Attempting uninstall: nvidia-cudnn-cu12\n",
            "    Found existing installation: nvidia-cudnn-cu12 9.3.0.75\n",
            "    Uninstalling nvidia-cudnn-cu12-9.3.0.75:\n",
            "      Successfully uninstalled nvidia-cudnn-cu12-9.3.0.75\n",
            "  Attempting uninstall: nvidia-cusolver-cu12\n",
            "    Found existing installation: nvidia-cusolver-cu12 11.6.3.83\n",
            "    Uninstalling nvidia-cusolver-cu12-11.6.3.83:\n",
            "      Successfully uninstalled nvidia-cusolver-cu12-11.6.3.83\n",
            "Successfully installed nvidia-cublas-cu12-12.4.5.8 nvidia-cuda-cupti-cu12-12.4.127 nvidia-cuda-nvrtc-cu12-12.4.127 nvidia-cuda-runtime-cu12-12.4.127 nvidia-cudnn-cu12-9.1.0.70 nvidia-cufft-cu12-11.2.1.3 nvidia-curand-cu12-10.3.5.147 nvidia-cusolver-cu12-11.6.1.9 nvidia-cusparse-cu12-12.3.1.170 nvidia-nvjitlink-cu12-12.4.127\n"
          ]
        }
      ],
      "source": [
        "!pip install torchvision scikit-learn"
      ]
    },
    {
      "cell_type": "code",
      "execution_count": 2,
      "metadata": {
        "id": "G8J-TbNVhwjp"
      },
      "outputs": [],
      "source": [
        "import numpy as np\n",
        "import matplotlib.pyplot as plt\n",
        "import os\n",
        "import librosa\n",
        "import pandas as pd\n",
        "import seaborn as sns\n",
        "import cv2\n",
        "from tqdm import tqdm\n",
        "import shutil\n",
        "from google.colab import drive\n",
        "import random\n",
        "import albumentations as A\n",
        "from sklearn.model_selection import train_test_split\n",
        "import gc\n",
        "from sklearn.preprocessing import LabelEncoder\n",
        "from collections import Counter\n"
      ]
    },
    {
      "cell_type": "code",
      "execution_count": 3,
      "metadata": {
        "colab": {
          "base_uri": "https://localhost:8080/"
        },
        "id": "J8wY2ff_h4HW",
        "outputId": "d255c13e-ff7a-4c23-e9e8-5d8b03ba98f9"
      },
      "outputs": [
        {
          "output_type": "stream",
          "name": "stdout",
          "text": [
            "Requirement already satisfied: gdown in /usr/local/lib/python3.11/dist-packages (5.2.0)\n",
            "Requirement already satisfied: beautifulsoup4 in /usr/local/lib/python3.11/dist-packages (from gdown) (4.13.4)\n",
            "Requirement already satisfied: filelock in /usr/local/lib/python3.11/dist-packages (from gdown) (3.18.0)\n",
            "Requirement already satisfied: requests[socks] in /usr/local/lib/python3.11/dist-packages (from gdown) (2.32.3)\n",
            "Requirement already satisfied: tqdm in /usr/local/lib/python3.11/dist-packages (from gdown) (4.67.1)\n",
            "Requirement already satisfied: soupsieve>1.2 in /usr/local/lib/python3.11/dist-packages (from beautifulsoup4->gdown) (2.6)\n",
            "Requirement already satisfied: typing-extensions>=4.0.0 in /usr/local/lib/python3.11/dist-packages (from beautifulsoup4->gdown) (4.13.2)\n",
            "Requirement already satisfied: charset-normalizer<4,>=2 in /usr/local/lib/python3.11/dist-packages (from requests[socks]->gdown) (3.4.1)\n",
            "Requirement already satisfied: idna<4,>=2.5 in /usr/local/lib/python3.11/dist-packages (from requests[socks]->gdown) (3.10)\n",
            "Requirement already satisfied: urllib3<3,>=1.21.1 in /usr/local/lib/python3.11/dist-packages (from requests[socks]->gdown) (2.3.0)\n",
            "Requirement already satisfied: certifi>=2017.4.17 in /usr/local/lib/python3.11/dist-packages (from requests[socks]->gdown) (2025.1.31)\n",
            "Requirement already satisfied: PySocks!=1.5.7,>=1.5.6 in /usr/local/lib/python3.11/dist-packages (from requests[socks]->gdown) (1.7.1)\n",
            "Collecting rarfile\n",
            "  Downloading rarfile-4.2-py3-none-any.whl.metadata (4.4 kB)\n",
            "Downloading rarfile-4.2-py3-none-any.whl (29 kB)\n",
            "Installing collected packages: rarfile\n",
            "Successfully installed rarfile-4.2\n"
          ]
        }
      ],
      "source": [
        "!pip install gdown\n",
        "!pip install rarfile\n",
        "\n",
        "import rarfile\n",
        "import gdown"
      ]
    },
    {
      "cell_type": "code",
      "execution_count": 4,
      "metadata": {
        "id": "fpIJP6QMktLz"
      },
      "outputs": [],
      "source": [
        "dataset_path = \"/content/toyota_dataset/toyota_cars\"\n",
        "resized_path = \"/content/resized_toyota_cars\"\n",
        "data_path = \"/content/data_toyota_cars\"\n",
        "normalized_path = \"/content/normalized_toyota_cars\"\n",
        "labels_file = 'selected_toyota_car_models.csv'"
      ]
    },
    {
      "cell_type": "code",
      "execution_count": 7,
      "metadata": {
        "colab": {
          "base_uri": "https://localhost:8080/"
        },
        "id": "gtb-6VkDh9Wt",
        "outputId": "eca50d32-c34d-4539-8b90-645fd96b020a"
      },
      "outputs": [
        {
          "output_type": "stream",
          "name": "stdout",
          "text": [
            "Mounted at /content/drive\n",
            " فایل در مسیر مشخص شده موجود است!\n"
          ]
        }
      ],
      "source": [
        "drive.mount('/content/drive', force_remount=True)\n",
        "file_path = \"/content/drive/My Drive/dataSet/toyota_cars.rar\"\n",
        "\n",
        "if os.path.exists(file_path):\n",
        "    print(\" فایل در مسیر مشخص شده موجود است!\")\n",
        "else:\n",
        "    print(\" فایل یافت نشد! مسیر را بررسی کنید.\")\n"
      ]
    },
    {
      "cell_type": "code",
      "execution_count": 8,
      "metadata": {
        "colab": {
          "base_uri": "https://localhost:8080/"
        },
        "id": "XNaN3hdsiHBJ",
        "outputId": "fde17dcb-6996-4bcf-d05e-9bb5aa56caf0"
      },
      "outputs": [
        {
          "output_type": "stream",
          "name": "stdout",
          "text": [
            " در حال استخراج فایل...\n",
            " فایل با موفقیت استخراج شد!\n"
          ]
        }
      ],
      "source": [
        "extract_path = \"/content/toyota_dataset\"\n",
        "if not os.path.exists(extract_path):\n",
        "    print(\" در حال استخراج فایل...\")\n",
        "    with rarfile.RarFile(file_path, 'r') as rar_ref:\n",
        "        rar_ref.extractall(extract_path)\n",
        "    print(\" فایل با موفقیت استخراج شد!\")\n",
        "else:\n",
        "    print(\" فایل از قبل استخراج شده است!\")"
      ]
    },
    {
      "cell_type": "code",
      "execution_count": 9,
      "metadata": {
        "colab": {
          "base_uri": "https://localhost:8080/",
          "height": 1000
        },
        "id": "PrJp25RciWmd",
        "outputId": "a7020164-6ab5-445b-9b7f-9276b185e07f"
      },
      "outputs": [
        {
          "output_type": "stream",
          "name": "stderr",
          "text": [
            "<ipython-input-9-7cfc4c5e445d>:10: FutureWarning: \n",
            "\n",
            "Passing `palette` without assigning `hue` is deprecated and will be removed in v0.14.0. Assign the `x` variable to `hue` and set `legend=False` for the same effect.\n",
            "\n",
            "  ax = sns.barplot(x=list(car_counts.keys()), y=list(car_counts.values()), palette=\"viridis\")\n"
          ]
        },
        {
          "output_type": "display_data",
          "data": {
            "text/plain": [
              "<Figure size 1200x600 with 1 Axes>"
            ],
            "image/png": "[encoded data removed]"
          },
          "metadata": {}
        },
        {
          "output_type": "stream",
          "name": "stdout",
          "text": [
            "     Car Model  Number of Images\n",
            "0      corolla              2311\n",
            "1        camry              2246\n",
            "2         rav4              1786\n",
            "3       tacoma              1318\n",
            "4   highlander              1119\n",
            "5        prius              1039\n",
            "6       tundra              1035\n",
            "7      4runner               946\n",
            "8        yaris               844\n",
            "9       sienna               652\n",
            "10      avalon               497\n",
            "11       hilux               435\n",
            "12    fortuner               254\n",
            "13       supra               173\n",
            "14     avensis               167\n",
            "15     sequoia               166\n",
            "16        revo               162\n",
            "17        vios               141\n",
            "18       venza               122\n",
            "19      innova               121\n",
            "20       verso               112\n",
            "21        aygo               109\n",
            "22        vitz               102\n",
            "23      celica               101\n",
            "24       crown                77\n",
            "25       hiace                75\n",
            "26       etios                74\n",
            "27      corona                70\n",
            "28     alphard                64\n",
            "29      matrix                63\n",
            "30      avanza                63\n",
            "31       mirai                57\n",
            "32      soarer                48\n",
            "33     starlet                48\n",
            "34      previa                44\n",
            "35      estima                32\n",
            "36          iq                27\n",
            "37        rush                23\n"
          ]
        }
      ],
      "source": [
        "# شمارش تعداد تصاویر در هر کلاس\n",
        "car_counts = {car_model: len(os.listdir(os.path.join(dataset_path, car_model)))\n",
        "              for car_model in os.listdir(dataset_path)}\n",
        "\n",
        "# مرتب‌سازی بر اساس تعداد تصاویر\n",
        "car_counts = dict(sorted(car_counts.items(), key=lambda item: item[1], reverse=True))\n",
        "\n",
        "#  رسم نمودار فراوانی با نمایش تعداد تصاویر\n",
        "plt.figure(figsize=(12, 6))\n",
        "ax = sns.barplot(x=list(car_counts.keys()), y=list(car_counts.values()), palette=\"viridis\")\n",
        "\n",
        "# افزودن تعداد تصاویر به بالای هر ستون\n",
        "for i, count in enumerate(car_counts.values()):\n",
        "    ax.text(i, count + 5, str(count), ha='center', fontsize=7)\n",
        "\n",
        "plt.xticks(rotation=90)  # چرخش نام‌ها برای نمایش بهتر\n",
        "plt.xlabel(\"Car Model\")\n",
        "plt.ylabel(\"Number of Images\")\n",
        "plt.title(\"Frequency Distribution of Toyota Car Images\")\n",
        "plt.show()\n",
        "\n",
        "#  نمایش تعداد تصاویر به‌صورت DataFrame\n",
        "df_counts = pd.DataFrame(list(car_counts.items()), columns=[\"Car Model\", \"Number of Images\"])\n",
        "print(df_counts)\n"
      ]
    },
    {
      "cell_type": "markdown",
      "metadata": {
        "id": "scLQCVC1igXs"
      },
      "source": [
        "#Encode Car Model to Label"
      ]
    },
    {
      "cell_type": "code",
      "execution_count": 10,
      "metadata": {
        "colab": {
          "base_uri": "https://localhost:8080/"
        },
        "id": "Fo406nikip53",
        "outputId": "aac5dd33-a6e0-4cec-ee2d-b3274de43fba"
      },
      "outputs": [
        {
          "output_type": "stream",
          "name": "stdout",
          "text": [
            "     Car Model  Number of Images  Car Model Encoded\n",
            "0      corolla              2311                  8\n",
            "1        camry              2246                  6\n",
            "2         rav4              1786                 23\n",
            "3       tacoma              1318                 31\n",
            "4   highlander              1119                 15\n",
            "5        prius              1039                 22\n",
            "6       tundra              1035                 32\n",
            "7      4runner               946                  0\n",
            "8        yaris               844                 37\n",
            "9       sienna               652                 27\n",
            "10      avalon               497                  2\n",
            "11       hilux               435                 16\n",
            "12    fortuner               254                 13\n",
            "13       supra               173                 30\n",
            "14     avensis               167                  4\n",
            "15     sequoia               166                 26\n",
            "16        revo               162                 24\n",
            "17        vios               141                 35\n",
            "18       venza               122                 33\n",
            "19      innova               121                 17\n",
            "20       verso               112                 34\n",
            "21        aygo               109                  5\n",
            "22        vitz               102                 36\n",
            "23      celica               101                  7\n",
            "24       crown                77                 10\n",
            "25       hiace                75                 14\n",
            "26       etios                74                 12\n",
            "27      corona                70                  9\n",
            "28     alphard                64                  1\n",
            "29      matrix                63                 19\n",
            "30      avanza                63                  3\n",
            "31       mirai                57                 20\n",
            "32      soarer                48                 28\n",
            "33     starlet                48                 29\n",
            "34      previa                44                 21\n",
            "35      estima                32                 11\n",
            "36          iq                27                 18\n",
            "37        rush                23                 25\n",
            " Data saved as 'toyota_car_labels.csv'\n"
          ]
        }
      ],
      "source": [
        "# ایجاد DataFrame از مدل‌های خودرو\n",
        "df_counts = pd.DataFrame(list(car_counts.items()), columns=[\"Car Model\", \"Number of Images\"])\n",
        "\n",
        "# تبدیل نام مدل خودروها به مقادیر عددی\n",
        "label_encoder = LabelEncoder()\n",
        "df_counts[\"Car Model Encoded\"] = label_encoder.fit_transform(df_counts[\"Car Model\"])\n",
        "\n",
        "# نمایش DataFrame با مقادیر عددی\n",
        "print(df_counts)\n",
        "\n",
        "\n",
        "df_counts.to_csv(\"toyota_car_labels.csv\", index=False)\n",
        "print(\" Data saved as 'toyota_car_labels.csv'\")\n",
        "\n"
      ]
    },
    {
      "cell_type": "markdown",
      "metadata": {
        "id": "EQ9-plgejtiY"
      },
      "source": [
        "#Selected Car Models"
      ]
    },
    {
      "cell_type": "code",
      "execution_count": 11,
      "metadata": {
        "colab": {
          "base_uri": "https://localhost:8080/"
        },
        "id": "sjDKG3YGjxDo",
        "outputId": "fd3e3213-6a20-4669-9ca4-c1e35f81aa5f"
      },
      "outputs": [
        {
          "output_type": "stream",
          "name": "stdout",
          "text": [
            "Selected Car Models for Further Processing:\n",
            "   Car Model  Number of Images  Car Model Encoded\n",
            "1      camry              2246                  6\n",
            "5      prius              1039                 22\n",
            "6     tundra              1035                 32\n",
            "7    4runner               946                  0\n",
            "11     hilux               435                 16\n",
            "13     supra               173                 30\n",
            "22      vitz               102                 36\n",
            "28   alphard                64                  1\n",
            "32    soarer                48                 28\n",
            "36        iq                27                 18\n",
            "Selected car models saved as 'selected_toyota_car_models.csv'\n"
          ]
        }
      ],
      "source": [
        "selected_models = [\n",
        "    \"soarer\", \"supra\", \"hilux\", \"Vitz\", \"camry\",\n",
        "    \"4runner\", \"prius\", \"tundra\", \"iq\", \"alphard\"\n",
        "]\n",
        "\n",
        "# تبدیل همه مقادیر به حروف کوچک و حذف فاصله‌های اضافی\n",
        "df_counts['Car Model'] = df_counts['Car Model'].str.strip().str.lower()\n",
        "selected_models = [model.lower() for model in selected_models]\n",
        "\n",
        "# فیلتر کردن DataFrame بر اساس مدل‌های انتخاب‌شده\n",
        "df_selected = df_counts[df_counts['Car Model'].isin(selected_models)]\n",
        "\n",
        "print(\"Selected Car Models for Further Processing:\")\n",
        "print(df_selected)\n",
        "\n",
        "df_selected.to_csv(\"selected_toyota_car_models.csv\", index=False)\n",
        "print(\"Selected car models saved as 'selected_toyota_car_models.csv'\")\n",
        "\n"
      ]
    },
    {
      "cell_type": "markdown",
      "metadata": {
        "id": "gvKOeN90ldfO"
      },
      "source": [
        "#change Image Size to 224*224"
      ]
    },
    {
      "cell_type": "code",
      "execution_count": 12,
      "metadata": {
        "id": "HkZBot6fllSJ"
      },
      "outputs": [],
      "source": [
        "# اگر پوشه وجود داشت، آن را حذف کن\n",
        "if os.path.exists(resized_path):\n",
        "    print(\" Removing existing resized dataset...\")\n",
        "    shutil.rmtree(resized_path)"
      ]
    },
    {
      "cell_type": "code",
      "execution_count": 13,
      "metadata": {
        "colab": {
          "base_uri": "https://localhost:8080/"
        },
        "id": "lPE6q9hwlhb0",
        "outputId": "539ae5fc-0fac-4564-c327-16a42f01abe0"
      },
      "outputs": [
        {
          "output_type": "stream",
          "name": "stdout",
          "text": [
            "Processing images for: camry...\n"
          ]
        },
        {
          "output_type": "stream",
          "name": "stderr",
          "text": [
            "100%|██████████| 2246/2246 [00:10<00:00, 215.08it/s]\n"
          ]
        },
        {
          "output_type": "stream",
          "name": "stdout",
          "text": [
            "Processing images for: prius...\n"
          ]
        },
        {
          "output_type": "stream",
          "name": "stderr",
          "text": [
            "100%|██████████| 1039/1039 [00:03<00:00, 319.83it/s]\n"
          ]
        },
        {
          "output_type": "stream",
          "name": "stdout",
          "text": [
            "Processing images for: tundra...\n"
          ]
        },
        {
          "output_type": "stream",
          "name": "stderr",
          "text": [
            "100%|██████████| 1035/1035 [00:06<00:00, 170.60it/s]\n"
          ]
        },
        {
          "output_type": "stream",
          "name": "stdout",
          "text": [
            "Processing images for: 4runner...\n"
          ]
        },
        {
          "output_type": "stream",
          "name": "stderr",
          "text": [
            "100%|██████████| 946/946 [00:05<00:00, 183.98it/s]\n"
          ]
        },
        {
          "output_type": "stream",
          "name": "stdout",
          "text": [
            "Processing images for: hilux...\n"
          ]
        },
        {
          "output_type": "stream",
          "name": "stderr",
          "text": [
            "100%|██████████| 435/435 [00:01<00:00, 239.13it/s]\n"
          ]
        },
        {
          "output_type": "stream",
          "name": "stdout",
          "text": [
            "Processing images for: supra...\n"
          ]
        },
        {
          "output_type": "stream",
          "name": "stderr",
          "text": [
            "100%|██████████| 173/173 [00:01<00:00, 104.28it/s]\n"
          ]
        },
        {
          "output_type": "stream",
          "name": "stdout",
          "text": [
            "Processing images for: vitz...\n"
          ]
        },
        {
          "output_type": "stream",
          "name": "stderr",
          "text": [
            "100%|██████████| 102/102 [00:00<00:00, 243.07it/s]\n"
          ]
        },
        {
          "output_type": "stream",
          "name": "stdout",
          "text": [
            "Processing images for: alphard...\n"
          ]
        },
        {
          "output_type": "stream",
          "name": "stderr",
          "text": [
            "100%|██████████| 64/64 [00:00<00:00, 210.71it/s]\n"
          ]
        },
        {
          "output_type": "stream",
          "name": "stdout",
          "text": [
            "Processing images for: soarer...\n"
          ]
        },
        {
          "output_type": "stream",
          "name": "stderr",
          "text": [
            "100%|██████████| 48/48 [00:00<00:00, 213.86it/s]\n"
          ]
        },
        {
          "output_type": "stream",
          "name": "stdout",
          "text": [
            "Processing images for: iq...\n"
          ]
        },
        {
          "output_type": "stream",
          "name": "stderr",
          "text": [
            "100%|██████████| 27/27 [00:00<00:00, 188.09it/s]"
          ]
        },
        {
          "output_type": "stream",
          "name": "stdout",
          "text": [
            "All images resized and saved successfully!\n"
          ]
        },
        {
          "output_type": "stream",
          "name": "stderr",
          "text": [
            "\n"
          ]
        }
      ],
      "source": [
        "\n",
        "\n",
        "# بارگذاری برچسب‌ها از فایل CSV\n",
        "df_labels = pd.read_csv(\"selected_toyota_car_models.csv\")  # استفاده از فایل جدید\n",
        "label_encoder = LabelEncoder()\n",
        "\n",
        "# کدگذاری برچسب‌ها\n",
        "df_labels[\"Car Model Encoded\"] = label_encoder.fit_transform(df_labels[\"Car Model\"])\n",
        "\n",
        "# ایجاد پوشه ذخیره تغییر اندازه تصاویر\n",
        "os.makedirs(resized_path, exist_ok=True)\n",
        "\n",
        "# تغییر اندازه تصاویر برای مدل‌های انتخاب‌شده\n",
        "img_size = (224, 224)\n",
        "\n",
        "# پردازش مدل‌های انتخاب‌شده\n",
        "for model in df_labels[\"Car Model\"].unique():\n",
        "    model_path = os.path.join(dataset_path, model)\n",
        "    save_path = os.path.join(resized_path, model)\n",
        "\n",
        "    # ایجاد پوشه برای ذخیره تصاویر پردازش‌شده\n",
        "    os.makedirs(save_path, exist_ok=True)\n",
        "\n",
        "    print(f\"Processing images for: {model}...\")\n",
        "\n",
        "    # پردازش تمام تصاویر در هر کلاس\n",
        "    for img_name in tqdm(os.listdir(model_path)):\n",
        "        img_path = os.path.join(model_path, img_name)\n",
        "\n",
        "        # خواندن تصویر\n",
        "        img = cv2.imread(img_path)\n",
        "        if img is None:\n",
        "            continue  # رد کردن تصاویر خراب\n",
        "\n",
        "        # تغییر اندازه به 224x224\n",
        "        img_resized = cv2.resize(img, img_size)\n",
        "\n",
        "        # تبدیل نام مدل به برچسب عددی\n",
        "        model_encoded = df_labels[df_labels[\"Car Model\"] == model][\"Car Model Encoded\"].values[0]\n",
        "\n",
        "        # ذخیره تصویر تغییر اندازه داده‌شده با برچسب عددی\n",
        "        new_img_name = f\"{model_encoded}_{img_name}\"  # نام تصویر با برچسب عددی\n",
        "        cv2.imwrite(os.path.join(save_path, new_img_name), img_resized)\n",
        "\n",
        "print(\"All images resized and saved successfully!\")\n"
      ]
    },
    {
      "cell_type": "markdown",
      "metadata": {
        "id": "QESC654YoK2y"
      },
      "source": [
        "#change Image Pixels to Range 1 and 0 code[0,1]"
      ]
    },
    {
      "cell_type": "code",
      "execution_count": null,
      "metadata": {
        "colab": {
          "base_uri": "https://localhost:8080/"
        },
        "id": "Yb0xcoIgoH6h",
        "outputId": "03e5ae51-585b-4f5c-926e-369256f3930c"
      },
      "outputs": [
        {
          "output_type": "stream",
          "name": "stdout",
          "text": [
            " Normalizing images for: soarer...\n"
          ]
        },
        {
          "output_type": "stream",
          "name": "stderr",
          "text": [
            "100%|██████████| 48/48 [00:00<00:00, 976.99it/s]\n"
          ]
        },
        {
          "output_type": "stream",
          "name": "stdout",
          "text": [
            " Normalizing images for: supra...\n"
          ]
        },
        {
          "output_type": "stream",
          "name": "stderr",
          "text": [
            "100%|██████████| 172/172 [00:00<00:00, 808.11it/s]\n"
          ]
        },
        {
          "output_type": "stream",
          "name": "stdout",
          "text": [
            " Normalizing images for: hilux...\n"
          ]
        },
        {
          "output_type": "stream",
          "name": "stderr",
          "text": [
            "100%|██████████| 435/435 [00:00<00:00, 718.04it/s]\n"
          ]
        },
        {
          "output_type": "stream",
          "name": "stdout",
          "text": [
            " Normalizing images for: vitz...\n"
          ]
        },
        {
          "output_type": "stream",
          "name": "stderr",
          "text": [
            "100%|██████████| 102/102 [00:00<00:00, 774.47it/s]\n"
          ]
        },
        {
          "output_type": "stream",
          "name": "stdout",
          "text": [
            " Normalizing images for: camry...\n"
          ]
        },
        {
          "output_type": "stream",
          "name": "stderr",
          "text": [
            "100%|██████████| 2245/2245 [00:02<00:00, 1015.80it/s]\n"
          ]
        },
        {
          "output_type": "stream",
          "name": "stdout",
          "text": [
            " Normalizing images for: 4runner...\n"
          ]
        },
        {
          "output_type": "stream",
          "name": "stderr",
          "text": [
            "100%|██████████| 946/946 [00:00<00:00, 992.21it/s]\n"
          ]
        },
        {
          "output_type": "stream",
          "name": "stdout",
          "text": [
            " Normalizing images for: prius...\n"
          ]
        },
        {
          "output_type": "stream",
          "name": "stderr",
          "text": [
            "100%|██████████| 1039/1039 [00:01<00:00, 1013.19it/s]\n"
          ]
        },
        {
          "output_type": "stream",
          "name": "stdout",
          "text": [
            " Normalizing images for: tundra...\n"
          ]
        },
        {
          "output_type": "stream",
          "name": "stderr",
          "text": [
            "100%|██████████| 1035/1035 [00:01<00:00, 1007.19it/s]\n"
          ]
        },
        {
          "output_type": "stream",
          "name": "stdout",
          "text": [
            " Normalizing images for: iq...\n"
          ]
        },
        {
          "output_type": "stream",
          "name": "stderr",
          "text": [
            "100%|██████████| 27/27 [00:00<00:00, 990.91it/s]\n"
          ]
        },
        {
          "output_type": "stream",
          "name": "stdout",
          "text": [
            " Normalizing images for: alphard...\n"
          ]
        },
        {
          "output_type": "stream",
          "name": "stderr",
          "text": [
            "100%|██████████| 63/63 [00:00<00:00, 973.80it/s]\n"
          ]
        },
        {
          "output_type": "stream",
          "name": "stdout",
          "text": [
            " Normalization completed! Total images processed: 6112\n"
          ]
        }
      ],
      "source": [
        "# ذخیره تصاویر نرمال‌سازی‌شده\n",
        "normalized_images = []\n",
        "image_labels = []\n",
        "\n",
        "# پردازش تمام تصاویر در مدل‌های انتخاب‌شده\n",
        "for model in selected_models:\n",
        "    model_path = os.path.join(resized_path, model)\n",
        "\n",
        "    print(f\" Normalizing images for: {model}...\")\n",
        "\n",
        "    for img_name in tqdm(os.listdir(model_path)):\n",
        "        img_path = os.path.join(model_path, img_name)\n",
        "\n",
        "        # خواندن تصویر\n",
        "        img = cv2.imread(img_path)\n",
        "        if img is None:\n",
        "            continue  # رد کردن تصاویر خراب\n",
        "\n",
        "        # تبدیل مقادیر پیکسلی به محدوده [0,1]\n",
        "        img_normalized = img.astype(np.float32) / 255.0\n",
        "\n",
        "        # ذخیره در آرایه\n",
        "        normalized_images.append(img_normalized)\n",
        "        image_labels.append(model)  # ذخیره نام مدل برای برچسب‌ها\n",
        "\n",
        "# تبدیل به آرایه NumPy\n",
        "normalized_images = np.array(normalized_images)\n",
        "image_labels = np.array(image_labels)\n",
        "\n",
        "print(f\" Normalization completed! Total images processed: {len(normalized_images)}\")\n"
      ]
    },
    {
      "cell_type": "markdown",
      "metadata": {
        "id": "5vwVQZDmopJu"
      },
      "source": [
        "#Data Augmentation"
      ]
    },
    {
      "cell_type": "code",
      "execution_count": null,
      "metadata": {
        "colab": {
          "base_uri": "https://localhost:8080/",
          "height": 463
        },
        "id": "DloGmOBcosV1",
        "outputId": "c55c9db5-f7b0-472a-df36-3b6d9839b2a8"
      },
      "outputs": [
        {
          "output_type": "display_data",
          "data": {
            "text/plain": [
              "<Figure size 1200x600 with 1 Axes>"
            ],
            "image/png": "[encoded data removed]"
          },
          "metadata": {}
        }
      ],
      "source": [
        "# شمارش تعداد تصاویر در هر کلاس\n",
        "class_counts = {model: len(os.listdir(os.path.join(resized_path, model))) for model in selected_models}\n",
        "\n",
        "# رسم نمودار فراوانی\n",
        "plt.figure(figsize=(12,6))\n",
        "plt.bar(class_counts.keys(), class_counts.values(), color='Orange')\n",
        "plt.xlabel(\"Car Model\")\n",
        "plt.ylabel(\"Number of Images\")\n",
        "plt.xticks(rotation=45)\n",
        "plt.title(\"Distribution of Toyota Car Models\")\n",
        "plt.show()\n"
      ]
    },
    {
      "cell_type": "code",
      "execution_count": null,
      "metadata": {
        "colab": {
          "base_uri": "https://localhost:8080/"
        },
        "id": "codYtr3bo3JO",
        "outputId": "ba73de7b-e9d8-45c5-86e3-9010f7abe9da"
      },
      "outputs": [
        {
          "name": "stdout",
          "output_type": "stream",
          "text": [
            "soarer: 48\n",
            "tundra: 1035\n",
            "alphard: 63\n",
            "supra: 172\n",
            "vitz: 102\n",
            "hilux: 435\n",
            "prius: 1039\n",
            "4runner: 946\n",
            "camry: 2245\n",
            "iq: 27\n"
          ]
        }
      ],
      "source": [
        "# بررسی تعداد تصاویر هر کلاس پس از داده افزایی\n",
        "class_counts = {model: len(os.listdir(os.path.join(resized_path, model)))\n",
        "                for model in os.listdir(resized_path)\n",
        "                if os.path.isdir(os.path.join(resized_path, model))}\n",
        "\n",
        "# نمایش تعداد نمونه‌ها در هر کلاس\n",
        "for model, count in class_counts.items():\n",
        "    print(f\"{model}: {count}\")\n"
      ]
    },
    {
      "cell_type": "markdown",
      "metadata": {
        "id": "fmgDtoCNEjil"
      },
      "source": [
        "## Augmentation"
      ]
    },
    {
      "cell_type": "code",
      "execution_count": 14,
      "metadata": {
        "id": "KGqAqZ2yatxZ"
      },
      "outputs": [],
      "source": [
        "# اگر پوشه وجود داشت، آن را حذف کن\n",
        "if os.path.exists(data_path):\n",
        "    print(\" Removing existing resized dataset...\")\n",
        "    shutil.rmtree(data_path)"
      ]
    },
    {
      "cell_type": "code",
      "execution_count": 15,
      "metadata": {
        "colab": {
          "base_uri": "https://localhost:8080/"
        },
        "id": "8ELIHZSqqDRS",
        "outputId": "770f99fa-7a46-40a4-8ab1-921f61443991"
      },
      "outputs": [
        {
          "output_type": "stream",
          "name": "stdout",
          "text": [
            "Processing soarer - Current: 48, Target: 500\n",
            "Finished processing soarer - New total images: 500\n",
            "Processing tundra - Current: 1035, Target: 500\n",
            "Finished processing tundra - New total images: 500\n",
            "Processing alphard - Current: 63, Target: 500\n",
            "Finished processing alphard - New total images: 500\n",
            "Processing supra - Current: 172, Target: 500\n",
            "Finished processing supra - New total images: 500\n",
            "Processing vitz - Current: 102, Target: 500\n",
            "Finished processing vitz - New total images: 500\n",
            "Processing hilux - Current: 435, Target: 500\n",
            "Finished processing hilux - New total images: 500\n",
            "Processing prius - Current: 1039, Target: 500\n",
            "Finished processing prius - New total images: 500\n",
            "Processing 4runner - Current: 946, Target: 500\n",
            "Finished processing 4runner - New total images: 500\n",
            "Processing camry - Current: 2245, Target: 500\n",
            "Finished processing camry - New total images: 500\n",
            "Processing iq - Current: 27, Target: 500\n",
            "Finished processing iq - New total images: 500\n",
            "Data Augmentation Completed Successfully!\n"
          ]
        }
      ],
      "source": [
        "# دریافت تعداد تصاویر هر کلاس\n",
        "class_counts = {model: len(os.listdir(os.path.join(resized_path, model)))\n",
        "                for model in os.listdir(resized_path)\n",
        "                if os.path.isdir(os.path.join(resized_path, model))}\n",
        "\n",
        "# تعریف تعداد هدف برای هر کلاس\n",
        "target_count = 500\n",
        "\n",
        "# تعریف تبدیلات داده افزایی\n",
        "augment = A.Compose([\n",
        "    A.HorizontalFlip(p=0.5),\n",
        "    A.RandomBrightnessContrast(p=0.2),\n",
        "    A.Rotate(limit=20, p=0.5),\n",
        "    A.GaussianBlur(p=0.2),\n",
        "    A.CoarseDropout(p=0.2),\n",
        "    A.Resize(224, 224)\n",
        "])\n",
        "\n",
        "# پردازش هر کلاس\n",
        "for model, num_images in class_counts.items():\n",
        "    model_path = os.path.join(resized_path, model)\n",
        "    data_model_path = os.path.join(data_path, model)\n",
        "\n",
        "    # اگر پوشه مقصد وجود نداشته باشد، آن را بسازید\n",
        "    if not os.path.exists(data_model_path):\n",
        "        os.makedirs(data_model_path)\n",
        "\n",
        "    print(f\"Processing {model} - Current: {num_images}, Target: {target_count}\")\n",
        "\n",
        "    images = os.listdir(model_path)\n",
        "\n",
        "    # اگر تعداد تصاویر بیشتر از 1000 باشد، تصاویر اضافی را حذف می‌کنیم\n",
        "    if num_images > target_count:\n",
        "        excess_images = random.sample(images, num_images - target_count)  # تصادفی انتخاب کردن تصاویر اضافی\n",
        "        for img_name in excess_images:\n",
        "            os.remove(os.path.join(model_path, img_name))  # حذف تصاویر اضافی\n",
        "        num_images = target_count  # بروزرسانی تعداد تصاویر پس از حذف\n",
        "\n",
        "    # اگر تعداد تصاویر کمتر از 1000 باشد، داده افزایی انجام می‌دهیم\n",
        "    if num_images < target_count:\n",
        "        while num_images < target_count:\n",
        "            for img_name in images:\n",
        "                if num_images >= target_count:\n",
        "                    break\n",
        "\n",
        "                img_path = os.path.join(model_path, img_name)\n",
        "                img = cv2.imread(img_path)\n",
        "\n",
        "                if img is None:\n",
        "                    continue\n",
        "\n",
        "                # اعمال داده افزایی بر روی تصویر\n",
        "                augmented = augment(image=img)['image']\n",
        "\n",
        "                # ذخیره تصویر جدید در پوشه مقصد (normalized_path) بدون نرمال‌سازی\n",
        "                new_img_name = f\"aug_{num_images}_{img_name}\"\n",
        "                cv2.imwrite(os.path.join(data_model_path, new_img_name), augmented)  # ذخیره تصویر به حالت [0, 255]\n",
        "\n",
        "                num_images += 1  # بروزرسانی تعداد تصاویر\n",
        "\n",
        "    # ذخیره تصاویر قدیمی (اصلی) به پوشه مقصد (normalized_path)\n",
        "    for img_name in images:\n",
        "        img_path = os.path.join(model_path, img_name)\n",
        "        img = cv2.imread(img_path)\n",
        "\n",
        "        if img is None:\n",
        "            continue\n",
        "\n",
        "        # ذخیره تصویر اصلی به پوشه مقصد (normalized_path) بدون تغییر\n",
        "        cv2.imwrite(os.path.join(data_model_path, img_name), img)  # ذخیره تصویر به حالت [0, 255]\n",
        "\n",
        "    print(f\"Finished processing {model} - New total images: {num_images}\")\n",
        "\n",
        "print(\"Data Augmentation Completed Successfully!\")\n"
      ]
    },
    {
      "cell_type": "code",
      "execution_count": null,
      "metadata": {
        "colab": {
          "base_uri": "https://localhost:8080/",
          "height": 467
        },
        "id": "ShZu83ufxews",
        "outputId": "a349afdb-be40-41dd-d561-d4224129af9d"
      },
      "outputs": [
        {
          "output_type": "display_data",
          "data": {
            "text/plain": [
              "<Figure size 1200x600 with 1 Axes>"
            ],
            "image/png": "[encoded data removed]"
          },
          "metadata": {}
        }
      ],
      "source": [
        "# شمارش تعداد تصاویر در هر کلاس\n",
        "class_counts = {model: len(os.listdir(os.path.join(data_path, model))) for model in selected_models}\n",
        "\n",
        "# رسم نمودار فراوانی\n",
        "plt.figure(figsize=(12,6))\n",
        "plt.bar(class_counts.keys(), class_counts.values(), color='Orange')\n",
        "plt.xlabel(\"Car Model\")\n",
        "plt.ylabel(\"Number of Images\")\n",
        "plt.xticks(rotation=45)\n",
        "plt.title(\"Distribution of Toyota Car Models\")\n",
        "plt.show()\n"
      ]
    },
    {
      "cell_type": "code",
      "execution_count": null,
      "metadata": {
        "colab": {
          "base_uri": "https://localhost:8080/"
        },
        "id": "qr5yrs9F_1-e",
        "outputId": "27a60830-5555-404b-8841-d701cca1a3fc"
      },
      "outputs": [
        {
          "name": "stdout",
          "output_type": "stream",
          "text": [
            "همه تصاویر سایز 224 در 224 دارند.\n"
          ]
        }
      ],
      "source": [
        "all_ok = True\n",
        "\n",
        "for img_name in os.listdir(resized_path):\n",
        "    img_path = os.path.join(resized_path, img_name)\n",
        "    img = cv2.imread(img_path)\n",
        "\n",
        "    if img is None:\n",
        "        continue\n",
        "\n",
        "    if img.shape[0] != 224 or img.shape[1] != 224:\n",
        "        all_ok = False\n",
        "        break\n",
        "\n",
        "if all_ok:\n",
        "    print(\"همه تصاویر سایز 224 در 224 دارند.\")\n",
        "else:\n",
        "    print(\"برخی تصاویر سایز 224 در 224 نیستند\")\n"
      ]
    },
    {
      "cell_type": "markdown",
      "metadata": {
        "id": "wwCuvtIFAQ5o"
      },
      "source": [
        "#Normalize Data [0,1]"
      ]
    },
    {
      "cell_type": "code",
      "execution_count": 16,
      "metadata": {
        "id": "VzZG660-TX8_"
      },
      "outputs": [],
      "source": [
        "# ایجاد دایرکتوری مقصد در صورت نبودن آن\n",
        "if not os.path.exists(normalized_path):\n",
        "    os.makedirs(normalized_path)\n",
        "# فایل لیبل‌ها\n",
        "\n",
        "# خواندن فایل CSV برای لیبل‌ها\n",
        "df_labels = pd.read_csv(labels_file)\n",
        "model_label_dict = {row['Car Model']: row['Car Model Encoded'] for _, row in df_labels.iterrows()}\n",
        "\n",
        "# مدل‌های انتخاب‌شده\n",
        "selected_models = df_labels['Car Model'].tolist()  # تمام مدل‌ها از فایل CSV گرفته می‌شود"
      ]
    },
    {
      "cell_type": "code",
      "execution_count": 17,
      "metadata": {
        "colab": {
          "base_uri": "https://localhost:8080/"
        },
        "id": "z7CA2Pgs1mH7",
        "outputId": "73499998-8814-44f1-df30-61d29424134e"
      },
      "outputs": [
        {
          "output_type": "stream",
          "name": "stdout",
          "text": [
            "Normalizing images for: camry...\n"
          ]
        },
        {
          "output_type": "stream",
          "name": "stderr",
          "text": [
            "100%|██████████| 500/500 [00:00<00:00, 1155.62it/s]\n"
          ]
        },
        {
          "output_type": "stream",
          "name": "stdout",
          "text": [
            "Finished processing and saving camry to /content/normalized_toyota_cars/camry_normalized_images.npz\n",
            "Normalizing images for: prius...\n"
          ]
        },
        {
          "output_type": "stream",
          "name": "stderr",
          "text": [
            "100%|██████████| 500/500 [00:00<00:00, 1086.56it/s]\n"
          ]
        },
        {
          "output_type": "stream",
          "name": "stdout",
          "text": [
            "Finished processing and saving prius to /content/normalized_toyota_cars/prius_normalized_images.npz\n",
            "Normalizing images for: tundra...\n"
          ]
        },
        {
          "output_type": "stream",
          "name": "stderr",
          "text": [
            "100%|██████████| 500/500 [00:00<00:00, 852.22it/s]\n"
          ]
        },
        {
          "output_type": "stream",
          "name": "stdout",
          "text": [
            "Finished processing and saving tundra to /content/normalized_toyota_cars/tundra_normalized_images.npz\n",
            "Normalizing images for: 4runner...\n"
          ]
        },
        {
          "output_type": "stream",
          "name": "stderr",
          "text": [
            "100%|██████████| 500/500 [00:00<00:00, 1079.41it/s]\n"
          ]
        },
        {
          "output_type": "stream",
          "name": "stdout",
          "text": [
            "Finished processing and saving 4runner to /content/normalized_toyota_cars/4runner_normalized_images.npz\n",
            "Normalizing images for: hilux...\n"
          ]
        },
        {
          "output_type": "stream",
          "name": "stderr",
          "text": [
            "100%|██████████| 500/500 [00:00<00:00, 1253.95it/s]\n"
          ]
        },
        {
          "output_type": "stream",
          "name": "stdout",
          "text": [
            "Finished processing and saving hilux to /content/normalized_toyota_cars/hilux_normalized_images.npz\n",
            "Normalizing images for: supra...\n"
          ]
        },
        {
          "output_type": "stream",
          "name": "stderr",
          "text": [
            "100%|██████████| 500/500 [00:00<00:00, 1018.66it/s]\n"
          ]
        },
        {
          "output_type": "stream",
          "name": "stdout",
          "text": [
            "Finished processing and saving supra to /content/normalized_toyota_cars/supra_normalized_images.npz\n",
            "Normalizing images for: vitz...\n"
          ]
        },
        {
          "output_type": "stream",
          "name": "stderr",
          "text": [
            "100%|██████████| 500/500 [00:00<00:00, 1105.24it/s]\n"
          ]
        },
        {
          "output_type": "stream",
          "name": "stdout",
          "text": [
            "Finished processing and saving vitz to /content/normalized_toyota_cars/vitz_normalized_images.npz\n",
            "Normalizing images for: alphard...\n"
          ]
        },
        {
          "output_type": "stream",
          "name": "stderr",
          "text": [
            "100%|██████████| 500/500 [00:00<00:00, 1190.31it/s]\n"
          ]
        },
        {
          "output_type": "stream",
          "name": "stdout",
          "text": [
            "Finished processing and saving alphard to /content/normalized_toyota_cars/alphard_normalized_images.npz\n",
            "Normalizing images for: soarer...\n"
          ]
        },
        {
          "output_type": "stream",
          "name": "stderr",
          "text": [
            "100%|██████████| 500/500 [00:00<00:00, 1213.62it/s]\n"
          ]
        },
        {
          "output_type": "stream",
          "name": "stdout",
          "text": [
            "Finished processing and saving soarer to /content/normalized_toyota_cars/soarer_normalized_images.npz\n",
            "Normalizing images for: iq...\n"
          ]
        },
        {
          "output_type": "stream",
          "name": "stderr",
          "text": [
            "100%|██████████| 500/500 [00:00<00:00, 1229.09it/s]\n"
          ]
        },
        {
          "output_type": "stream",
          "name": "stdout",
          "text": [
            "Finished processing and saving iq to /content/normalized_toyota_cars/iq_normalized_images.npz\n",
            "Normalization and saving completed for all classes!\n"
          ]
        }
      ],
      "source": [
        "# پردازش تمام تصاویر در مدل‌های انتخاب‌شده\n",
        "for model in selected_models:\n",
        "    model_path = os.path.join(data_path, model)\n",
        "\n",
        "    print(f\"Normalizing images for: {model}...\")\n",
        "\n",
        "    # پردازش تصاویر در هر مدل\n",
        "    images_normalized = []\n",
        "    labels = []\n",
        "    class_names = []\n",
        "\n",
        "    for img_name in tqdm(os.listdir(model_path)):\n",
        "        img_path = os.path.join(model_path, img_name)\n",
        "\n",
        "        # خواندن تصویر\n",
        "        img = cv2.imread(img_path)\n",
        "        if img is None:\n",
        "            continue  # رد کردن تصاویر خراب\n",
        "\n",
        "        # تبدیل مقادیر پیکسلی به محدوده [0,1]\n",
        "        img_normalized = img.astype(np.float32) / 255.0\n",
        "\n",
        "        # اضافه کردن تصویر و لیبل به لیست‌ها\n",
        "        images_normalized.append(img_normalized)\n",
        "        labels.append(model_label_dict[model])  # استفاده از دیکشنری لیبل‌ها\n",
        "        class_names.append(model)  # اضافه کردن نام کلاس\n",
        "\n",
        "    # تبدیل به آرایه NumPy\n",
        "    images_normalized = np.array(images_normalized)\n",
        "    labels = np.array(labels)\n",
        "    class_names = np.array(class_names)\n",
        "\n",
        "    # ذخیره‌سازی هر کلاس در فایل جداگانه .npz\n",
        "    class_filename = os.path.join(normalized_path, f\"{model}_normalized_images.npz\")\n",
        "    np.savez_compressed(class_filename, images=images_normalized, labels=labels, class_names=class_names)\n",
        "\n",
        "    print(f\"Finished processing and saving {model} to {class_filename}\")\n",
        "\n",
        "print(\"Normalization and saving completed for all classes!\")\n",
        "\n"
      ]
    },
    {
      "cell_type": "markdown",
      "metadata": {
        "id": "hIsBRt2aBjHI"
      },
      "source": [
        "#Split Train and Test Data"
      ]
    },
    {
      "cell_type": "code",
      "execution_count": 18,
      "metadata": {
        "id": "sFhEHfCs0xMr"
      },
      "outputs": [],
      "source": [
        "# بارگذاری فایل لیبل‌ها\n",
        "label_df = pd.read_csv(labels_file)\n",
        "\n",
        "# ساخت دیکشنری از مدل به لیبل عددی\n",
        "model_to_label = dict(zip(label_df['Car Model'], label_df['Car Model Encoded']))\n",
        "\n",
        "# مدل‌های انتخابی از فایل\n",
        "selected_models = list(model_to_label.keys())\n",
        "\n",
        "# لیست نهایی برای ذخیره داده‌ها\n",
        "train_images = []\n",
        "test_images = []\n",
        "train_labels = []\n",
        "test_labels = []\n",
        "\n",
        "# پردازش هر کلاس\n",
        "for model in selected_models:\n",
        "    model_lower = model.lower()\n",
        "    class_filename = os.path.join(normalized_path, f\"{model_lower}_normalized_images.npz\")\n",
        "\n",
        "    if not os.path.exists(class_filename):\n",
        "        print(f\" فایل {class_filename} وجود ندارد. رد شد.\")\n",
        "        continue\n",
        "\n",
        "    try:\n",
        "        data = np.load(class_filename)\n",
        "        images = data['images']\n",
        "    except Exception as e:\n",
        "        print(f\" خطا در بارگذاری فایل {class_filename}: {e}\")\n",
        "        continue\n",
        "\n",
        "    label = model_to_label[model]\n",
        "    labels = np.full((images.shape[0],), label)\n",
        "\n",
        "    X_train, X_test, y_train, y_test = train_test_split(images, labels, test_size=0.2, random_state=42, stratify=labels)\n",
        "\n",
        "    train_images.append(X_train)\n",
        "    test_images.append(X_test)\n",
        "    train_labels.append(y_train)\n",
        "    test_labels.append(y_test)\n",
        "\n",
        "\n",
        "\n"
      ]
    },
    {
      "cell_type": "code",
      "execution_count": 19,
      "metadata": {
        "id": "HLyMEfjLSOyP"
      },
      "outputs": [],
      "source": [
        "del data\n",
        "del images\n",
        "del labels"
      ]
    },
    {
      "cell_type": "code",
      "execution_count": 20,
      "metadata": {
        "id": "eqQf8EoX3_Dt"
      },
      "outputs": [],
      "source": [
        "# تبدیل به آرایه‌های نهایی\n",
        "train_images = np.concatenate(train_images, axis=0)\n",
        "test_images = np.concatenate(test_images, axis=0)\n",
        "train_labels = np.concatenate(train_labels, axis=0)\n",
        "test_labels = np.concatenate(test_labels, axis=0)"
      ]
    },
    {
      "cell_type": "code",
      "execution_count": 21,
      "metadata": {
        "colab": {
          "base_uri": "https://localhost:8080/"
        },
        "id": "Vvbus8lS38Vm",
        "outputId": "f5eb47b8-8f5b-41e2-b14d-d1bda6d9f3df"
      },
      "outputs": [
        {
          "output_type": "stream",
          "name": "stdout",
          "text": [
            " Done. Train images: (4000, 224, 224, 3), Test images: (1000, 224, 224, 3)\n"
          ]
        }
      ],
      "source": [
        "# ذخیره در فایل\n",
        "np.savez_compressed( 'train_data.npz', images=train_images, labels=train_labels)\n",
        "np.savez_compressed('test_data.npz', images=test_images, labels=test_labels)\n",
        "\n",
        "# نمایش اطلاعات\n",
        "print(f\" Done. Train images: {train_images.shape}, Test images: {test_images.shape}\")"
      ]
    },
    {
      "cell_type": "code",
      "execution_count": 22,
      "metadata": {
        "id": "RA9KOZDRSWSX"
      },
      "outputs": [],
      "source": [
        "del train_images\n",
        "del test_images\n",
        "del train_labels\n",
        "del test_labels"
      ]
    },
    {
      "cell_type": "markdown",
      "metadata": {
        "id": "e8_mlFHAIe2W"
      },
      "source": [
        "`Load Data`"
      ]
    },
    {
      "cell_type": "code",
      "execution_count": 23,
      "metadata": {
        "colab": {
          "base_uri": "https://localhost:8080/"
        },
        "id": "WhBuzgaC9Sfx",
        "outputId": "afe02970-c90d-4c1d-9e92-b69bb1bf4ce0"
      },
      "outputs": [
        {
          "output_type": "stream",
          "name": "stdout",
          "text": [
            "Train labels count:\n",
            "Label 0: 400 samples\n",
            "Label 1: 400 samples\n",
            "Label 6: 400 samples\n",
            "Label 16: 400 samples\n",
            "Label 18: 400 samples\n",
            "Label 22: 400 samples\n",
            "Label 28: 400 samples\n",
            "Label 30: 400 samples\n",
            "Label 32: 400 samples\n",
            "Label 36: 400 samples\n",
            "\n",
            "Test labels count:\n",
            "Label 0: 100 samples\n",
            "Label 1: 100 samples\n",
            "Label 6: 100 samples\n",
            "Label 16: 100 samples\n",
            "Label 18: 100 samples\n",
            "Label 22: 100 samples\n",
            "Label 28: 100 samples\n",
            "Label 30: 100 samples\n",
            "Label 32: 100 samples\n",
            "Label 36: 100 samples\n"
          ]
        }
      ],
      "source": [
        "# فرض کنید که داده‌ها از فایل npz بارگذاری شده‌اند\n",
        "train_data = np.load('train_data.npz')\n",
        "test_data = np.load('test_data.npz')\n",
        "\n",
        "# استخراج برچسب‌ها از داده‌های بارگذاری شده\n",
        "train_labels = train_data['labels']\n",
        "test_labels = test_data['labels']\n",
        "\n",
        "# بررسی تعداد برچسب‌ها در داده‌های آموزش\n",
        "train_unique_labels, train_counts = np.unique(train_labels, return_counts=True)\n",
        "train_label_dict = dict(zip(train_unique_labels, train_counts))\n",
        "\n",
        "# بررسی تعداد برچسب‌ها در داده‌های تست\n",
        "test_unique_labels, test_counts = np.unique(test_labels, return_counts=True)\n",
        "test_label_dict = dict(zip(test_unique_labels, test_counts))\n",
        "\n",
        "# نمایش تعداد برچسب‌ها در داده‌های آموزش\n",
        "print(\"Train labels count:\")\n",
        "for label, count in train_label_dict.items():\n",
        "    print(f\"Label {label}: {count} samples\")\n",
        "\n",
        "# نمایش تعداد برچسب‌ها در داده‌های تست\n",
        "print(\"\\nTest labels count:\")\n",
        "for label, count in test_label_dict.items():\n",
        "    print(f\"Label {label}: {count} samples\")\n"
      ]
    },
    {
      "cell_type": "code",
      "execution_count": 24,
      "metadata": {
        "colab": {
          "base_uri": "https://localhost:8080/"
        },
        "id": "C-pN2HPxfnyc",
        "outputId": "dc5d1825-6b70-417f-f570-1356f749e078"
      },
      "outputs": [
        {
          "output_type": "stream",
          "name": "stdout",
          "text": [
            "['images', 'labels']\n",
            "['images', 'labels']\n"
          ]
        }
      ],
      "source": [
        "# بارگذاری داده‌ها\n",
        "train_images = train_data['images']\n",
        "train_labels = train_data['labels']\n",
        "test_images = test_data['images']\n",
        "test_labels = test_data['labels']\n",
        "\n",
        "print(train_data.files)  # نمایش کلیدهای موجود در فایل train_data\n",
        "print(test_data.files)   # نمایش کلیدهای موجود در فایل test_data"
      ]
    },
    {
      "cell_type": "code",
      "execution_count": null,
      "metadata": {
        "colab": {
          "base_uri": "https://localhost:8080/"
        },
        "id": "yp4-g34GfrJi",
        "outputId": "b497d84a-6b11-402c-a463-d7f0ed5f81d4"
      },
      "outputs": [
        {
          "output_type": "stream",
          "name": "stdout",
          "text": [
            "Train shape: (4000, 224, 224, 3)\n",
            "Train Labels Shape: (4000,)\n",
            "Test shape: (1000, 224, 224, 3)\n",
            "Test Labels Shape: (1000,)\n"
          ]
        }
      ],
      "source": [
        "print(\"Train shape:\", train_images.shape)\n",
        "print(\"Train Labels Shape:\", np.array(train_labels).shape)\n",
        "\n",
        "print(\"Test shape:\", test_images.shape)\n",
        "print(\"Test Labels Shape:\", np.array(test_labels).shape)\n"
      ]
    },
    {
      "cell_type": "code",
      "execution_count": null,
      "metadata": {
        "colab": {
          "base_uri": "https://localhost:8080/"
        },
        "id": "Aqldi8BsfuA6",
        "outputId": "64e770ea-5ac2-47d8-d429-ecf51ee3b09b"
      },
      "outputs": [
        {
          "name": "stdout",
          "output_type": "stream",
          "text": [
            "Train min/max: 0.0 1.0\n",
            "Test min/max: 0.0 1.0\n"
          ]
        }
      ],
      "source": [
        "print(\"Train min/max:\", train_images.min(), train_images.max())\n",
        "print(\"Test min/max:\", test_images.min(), test_images.max())\n"
      ]
    },
    {
      "cell_type": "markdown",
      "metadata": {
        "id": "mNxIBK0WGjPM"
      },
      "source": [
        "#Feature Extraction and Train Models"
      ]
    },
    {
      "cell_type": "code",
      "execution_count": null,
      "metadata": {
        "colab": {
          "base_uri": "https://localhost:8080/"
        },
        "id": "QXzhRycDGiJ7",
        "outputId": "0cf580c2-551b-4d40-8e7b-cc120026afec"
      },
      "outputs": [
        {
          "output_type": "stream",
          "name": "stdout",
          "text": [
            "Requirement already satisfied: tensorflow in /usr/local/lib/python3.11/dist-packages (2.18.0)\n",
            "Requirement already satisfied: absl-py>=1.0.0 in /usr/local/lib/python3.11/dist-packages (from tensorflow) (1.4.0)\n",
            "Requirement already satisfied: astunparse>=1.6.0 in /usr/local/lib/python3.11/dist-packages (from tensorflow) (1.6.3)\n",
            "Requirement already satisfied: flatbuffers>=24.3.25 in /usr/local/lib/python3.11/dist-packages (from tensorflow) (25.2.10)\n",
            "Requirement already satisfied: gast!=0.5.0,!=0.5.1,!=0.5.2,>=0.2.1 in /usr/local/lib/python3.11/dist-packages (from tensorflow) (0.6.0)\n",
            "Requirement already satisfied: google-pasta>=0.1.1 in /usr/local/lib/python3.11/dist-packages (from tensorflow) (0.2.0)\n",
            "Requirement already satisfied: libclang>=13.0.0 in /usr/local/lib/python3.11/dist-packages (from tensorflow) (18.1.1)\n",
            "Requirement already satisfied: opt-einsum>=2.3.2 in /usr/local/lib/python3.11/dist-packages (from tensorflow) (3.4.0)\n",
            "Requirement already satisfied: packaging in /usr/local/lib/python3.11/dist-packages (from tensorflow) (24.2)\n",
            "Requirement already satisfied: protobuf!=4.21.0,!=4.21.1,!=4.21.2,!=4.21.3,!=4.21.4,!=4.21.5,<6.0.0dev,>=3.20.3 in /usr/local/lib/python3.11/dist-packages (from tensorflow) (5.29.4)\n",
            "Requirement already satisfied: requests<3,>=2.21.0 in /usr/local/lib/python3.11/dist-packages (from tensorflow) (2.32.3)\n",
            "Requirement already satisfied: setuptools in /usr/local/lib/python3.11/dist-packages (from tensorflow) (75.2.0)\n",
            "Requirement already satisfied: six>=1.12.0 in /usr/local/lib/python3.11/dist-packages (from tensorflow) (1.17.0)\n",
            "Requirement already satisfied: termcolor>=1.1.0 in /usr/local/lib/python3.11/dist-packages (from tensorflow) (3.0.1)\n",
            "Requirement already satisfied: typing-extensions>=3.6.6 in /usr/local/lib/python3.11/dist-packages (from tensorflow) (4.13.2)\n",
            "Requirement already satisfied: wrapt>=1.11.0 in /usr/local/lib/python3.11/dist-packages (from tensorflow) (1.17.2)\n",
            "Requirement already satisfied: grpcio<2.0,>=1.24.3 in /usr/local/lib/python3.11/dist-packages (from tensorflow) (1.71.0)\n",
            "Requirement already satisfied: tensorboard<2.19,>=2.18 in /usr/local/lib/python3.11/dist-packages (from tensorflow) (2.18.0)\n",
            "Requirement already satisfied: keras>=3.5.0 in /usr/local/lib/python3.11/dist-packages (from tensorflow) (3.8.0)\n",
            "Requirement already satisfied: numpy<2.1.0,>=1.26.0 in /usr/local/lib/python3.11/dist-packages (from tensorflow) (2.0.2)\n",
            "Requirement already satisfied: h5py>=3.11.0 in /usr/local/lib/python3.11/dist-packages (from tensorflow) (3.13.0)\n",
            "Requirement already satisfied: ml-dtypes<0.5.0,>=0.4.0 in /usr/local/lib/python3.11/dist-packages (from tensorflow) (0.4.1)\n",
            "Requirement already satisfied: tensorflow-io-gcs-filesystem>=0.23.1 in /usr/local/lib/python3.11/dist-packages (from tensorflow) (0.37.1)\n",
            "Requirement already satisfied: wheel<1.0,>=0.23.0 in /usr/local/lib/python3.11/dist-packages (from astunparse>=1.6.0->tensorflow) (0.45.1)\n",
            "Requirement already satisfied: rich in /usr/local/lib/python3.11/dist-packages (from keras>=3.5.0->tensorflow) (13.9.4)\n",
            "Requirement already satisfied: namex in /usr/local/lib/python3.11/dist-packages (from keras>=3.5.0->tensorflow) (0.0.8)\n",
            "Requirement already satisfied: optree in /usr/local/lib/python3.11/dist-packages (from keras>=3.5.0->tensorflow) (0.15.0)\n",
            "Requirement already satisfied: charset-normalizer<4,>=2 in /usr/local/lib/python3.11/dist-packages (from requests<3,>=2.21.0->tensorflow) (3.4.1)\n",
            "Requirement already satisfied: idna<4,>=2.5 in /usr/local/lib/python3.11/dist-packages (from requests<3,>=2.21.0->tensorflow) (3.10)\n",
            "Requirement already satisfied: urllib3<3,>=1.21.1 in /usr/local/lib/python3.11/dist-packages (from requests<3,>=2.21.0->tensorflow) (2.3.0)\n",
            "Requirement already satisfied: certifi>=2017.4.17 in /usr/local/lib/python3.11/dist-packages (from requests<3,>=2.21.0->tensorflow) (2025.1.31)\n",
            "Requirement already satisfied: markdown>=2.6.8 in /usr/local/lib/python3.11/dist-packages (from tensorboard<2.19,>=2.18->tensorflow) (3.8)\n",
            "Requirement already satisfied: tensorboard-data-server<0.8.0,>=0.7.0 in /usr/local/lib/python3.11/dist-packages (from tensorboard<2.19,>=2.18->tensorflow) (0.7.2)\n",
            "Requirement already satisfied: werkzeug>=1.0.1 in /usr/local/lib/python3.11/dist-packages (from tensorboard<2.19,>=2.18->tensorflow) (3.1.3)\n",
            "Requirement already satisfied: MarkupSafe>=2.1.1 in /usr/local/lib/python3.11/dist-packages (from werkzeug>=1.0.1->tensorboard<2.19,>=2.18->tensorflow) (3.0.2)\n",
            "Requirement already satisfied: markdown-it-py>=2.2.0 in /usr/local/lib/python3.11/dist-packages (from rich->keras>=3.5.0->tensorflow) (3.0.0)\n",
            "Requirement already satisfied: pygments<3.0.0,>=2.13.0 in /usr/local/lib/python3.11/dist-packages (from rich->keras>=3.5.0->tensorflow) (2.18.0)\n",
            "Requirement already satisfied: mdurl~=0.1 in /usr/local/lib/python3.11/dist-packages (from markdown-it-py>=2.2.0->rich->keras>=3.5.0->tensorflow) (0.1.2)\n"
          ]
        }
      ],
      "source": [
        "!pip install tensorflow"
      ]
    },
    {
      "cell_type": "code",
      "execution_count": 25,
      "metadata": {
        "id": "2Y87f-WGGqOp"
      },
      "outputs": [],
      "source": [
        "# ====== PyTorch (برای VGG و AlexNet) ======\n",
        "import torch\n",
        "from torch import nn, optim\n",
        "from torch.utils.data import Dataset, DataLoader, TensorDataset\n",
        "import torchvision.transforms as transforms\n",
        "from torchvision import models\n",
        "\n",
        "# ====== TensorFlow / Keras (برای مدل ساده CNN) ======\n",
        "from tensorflow.keras.models import Sequential\n",
        "from tensorflow.keras.layers import Conv2D, MaxPooling2D, Flatten, Dense, Dropout\n",
        "from tensorflow.keras.optimizers import Adam\n",
        "from tensorflow.keras.utils import to_categorical\n",
        "from tensorflow.keras.layers import Conv2D, MaxPooling2D, Flatten, Dense, Dropout, Resizing\n",
        "from tensorflow.keras.callbacks import EarlyStopping\n",
        "\n",
        "# ====== Scikit-learn (برای ارزیابی و لیبل‌ها) ======\n",
        "from sklearn.preprocessing import LabelEncoder\n",
        "from sklearn.metrics import accuracy_score, precision_score, recall_score, f1_score, confusion_matrix, ConfusionMatrixDisplay\n",
        "from sklearn.svm import SVC\n"
      ]
    },
    {
      "cell_type": "code",
      "execution_count": 26,
      "metadata": {
        "id": "Gyc4lktuGmC3"
      },
      "outputs": [],
      "source": [
        "from torchvision.datasets import ImageFolder"
      ]
    },
    {
      "cell_type": "code",
      "execution_count": 27,
      "metadata": {
        "id": "Iv4gr8iv-PQi"
      },
      "outputs": [],
      "source": [
        "device = torch.device(\"cuda\" if torch.cuda.is_available() else \"cpu\")"
      ]
    },
    {
      "cell_type": "markdown",
      "metadata": {
        "id": "oU_cH5A7Gr3_"
      },
      "source": [
        "#Feature Extraction with VGG16"
      ]
    },
    {
      "cell_type": "code",
      "execution_count": 28,
      "metadata": {
        "id": "C-WNDJ9B94hJ"
      },
      "outputs": [],
      "source": [
        "# تعریف ترنسفورم‌ها (تبدیل به Tensor و نرمال‌سازی)\n",
        "vgg16_transform = transforms.Compose([\n",
        "    transforms.Normalize(mean=[0.485, 0.456, 0.406],\n",
        "                         std=[0.229, 0.224, 0.225])\n",
        "])"
      ]
    },
    {
      "cell_type": "code",
      "execution_count": 29,
      "metadata": {
        "id": "rvhp-RSnkL1l"
      },
      "outputs": [],
      "source": [
        "# ساخت Dataset سفارشی\n",
        "class VGG16ImageDataset(Dataset):\n",
        "    def __init__(self, images, labels, transform=None):\n",
        "        self.images = images  # shape: (N, 224, 224, 3) در بازه [0, 1]\n",
        "        self.labels = labels\n",
        "        self.transform = transform\n",
        "\n",
        "    def __len__(self):\n",
        "        return len(self.images)\n",
        "\n",
        "    def __getitem__(self, idx):\n",
        "        image = self.images[idx]\n",
        "        label = self.labels[idx]\n",
        "\n",
        "        # به float32 و تبدیل به tensor\n",
        "        image = image.astype(np.float32)\n",
        "        image = torch.from_numpy(image).permute(2, 0, 1)  # [H, W, C] → [C, H, W]\n",
        "\n",
        "        if self.transform:\n",
        "            image = self.transform(image)\n",
        "        return image, label\n",
        "\n"
      ]
    },
    {
      "cell_type": "code",
      "execution_count": 30,
      "metadata": {
        "id": "XeBxRfLFkNsZ"
      },
      "outputs": [],
      "source": [
        "vgg16_train_dataset = VGG16ImageDataset(train_images, train_labels, transform=vgg16_transform)\n",
        "vgg16_test_dataset = VGG16ImageDataset(test_images, test_labels, transform=vgg16_transform)\n",
        "\n"
      ]
    },
    {
      "cell_type": "code",
      "execution_count": 31,
      "metadata": {
        "id": "1WnJkRCrIpKr"
      },
      "outputs": [],
      "source": [
        "vgg16_train_loader = DataLoader(vgg16_train_dataset, batch_size=16, shuffle=False)\n",
        "vgg16_test_loader = DataLoader(vgg16_test_dataset, batch_size=16, shuffle=False)"
      ]
    },
    {
      "cell_type": "code",
      "execution_count": 32,
      "metadata": {
        "id": "M1MBI-J0c5m6"
      },
      "outputs": [],
      "source": [
        "# تابع استخراج ویژگی\n",
        "def extract_vgg16_features(dataloader):\n",
        "    features_list = []\n",
        "    labels_list = []\n",
        "    with torch.no_grad():\n",
        "        for images, labels in dataloader:\n",
        "            images = images.to(device)\n",
        "            features = feature_extractor_vgg16(images)\n",
        "            features = features.view(features.size(0), -1)  # Flatten\n",
        "            features_list.append(features.cpu().numpy())\n",
        "            labels_list.append(labels.numpy())\n",
        "    return np.concatenate(features_list), np.concatenate(labels_list)"
      ]
    },
    {
      "cell_type": "code",
      "execution_count": 33,
      "metadata": {
        "colab": {
          "base_uri": "https://localhost:8080/"
        },
        "id": "V8xRfyGtmKZ0",
        "outputId": "d04e2933-6897-415b-f557-50e7e4d3556b"
      },
      "outputs": [
        {
          "output_type": "stream",
          "name": "stderr",
          "text": [
            "/usr/local/lib/python3.11/dist-packages/torchvision/models/_utils.py:208: UserWarning: The parameter 'pretrained' is deprecated since 0.13 and may be removed in the future, please use 'weights' instead.\n",
            "  warnings.warn(\n",
            "/usr/local/lib/python3.11/dist-packages/torchvision/models/_utils.py:223: UserWarning: Arguments other than a weight enum or `None` for 'weights' are deprecated since 0.13 and may be removed in the future. The current behavior is equivalent to passing `weights=VGG16_Weights.IMAGENET1K_V1`. You can also use `weights=VGG16_Weights.DEFAULT` to get the most up-to-date weights.\n",
            "  warnings.warn(msg)\n",
            "Downloading: \"https://download.pytorch.org/models/vgg16-397923af.pth\" to /root/.cache/torch/hub/checkpoints/vgg16-397923af.pth\n",
            "100%|██████████| 528M/528M [00:06<00:00, 88.9MB/s]\n"
          ]
        },
        {
          "output_type": "execute_result",
          "data": {
            "text/plain": [
              "Sequential(\n",
              "  (0): Conv2d(3, 64, kernel_size=(3, 3), stride=(1, 1), padding=(1, 1))\n",
              "  (1): ReLU(inplace=True)\n",
              "  (2): Conv2d(64, 64, kernel_size=(3, 3), stride=(1, 1), padding=(1, 1))\n",
              "  (3): ReLU(inplace=True)\n",
              "  (4): MaxPool2d(kernel_size=2, stride=2, padding=0, dilation=1, ceil_mode=False)\n",
              "  (5): Conv2d(64, 128, kernel_size=(3, 3), stride=(1, 1), padding=(1, 1))\n",
              "  (6): ReLU(inplace=True)\n",
              "  (7): Conv2d(128, 128, kernel_size=(3, 3), stride=(1, 1), padding=(1, 1))\n",
              "  (8): ReLU(inplace=True)\n",
              "  (9): MaxPool2d(kernel_size=2, stride=2, padding=0, dilation=1, ceil_mode=False)\n",
              "  (10): Conv2d(128, 256, kernel_size=(3, 3), stride=(1, 1), padding=(1, 1))\n",
              "  (11): ReLU(inplace=True)\n",
              "  (12): Conv2d(256, 256, kernel_size=(3, 3), stride=(1, 1), padding=(1, 1))\n",
              "  (13): ReLU(inplace=True)\n",
              "  (14): Conv2d(256, 256, kernel_size=(3, 3), stride=(1, 1), padding=(1, 1))\n",
              "  (15): ReLU(inplace=True)\n",
              "  (16): MaxPool2d(kernel_size=2, stride=2, padding=0, dilation=1, ceil_mode=False)\n",
              "  (17): Conv2d(256, 512, kernel_size=(3, 3), stride=(1, 1), padding=(1, 1))\n",
              "  (18): ReLU(inplace=True)\n",
              "  (19): Conv2d(512, 512, kernel_size=(3, 3), stride=(1, 1), padding=(1, 1))\n",
              "  (20): ReLU(inplace=True)\n",
              "  (21): Conv2d(512, 512, kernel_size=(3, 3), stride=(1, 1), padding=(1, 1))\n",
              "  (22): ReLU(inplace=True)\n",
              "  (23): MaxPool2d(kernel_size=2, stride=2, padding=0, dilation=1, ceil_mode=False)\n",
              "  (24): Conv2d(512, 512, kernel_size=(3, 3), stride=(1, 1), padding=(1, 1))\n",
              "  (25): ReLU(inplace=True)\n",
              "  (26): Conv2d(512, 512, kernel_size=(3, 3), stride=(1, 1), padding=(1, 1))\n",
              "  (27): ReLU(inplace=True)\n",
              "  (28): Conv2d(512, 512, kernel_size=(3, 3), stride=(1, 1), padding=(1, 1))\n",
              "  (29): ReLU(inplace=True)\n",
              "  (30): MaxPool2d(kernel_size=2, stride=2, padding=0, dilation=1, ceil_mode=False)\n",
              ")"
            ]
          },
          "metadata": {},
          "execution_count": 33
        }
      ],
      "source": [
        "# بارگذاری مدل VGG16 بدون FC layers\n",
        "vgg16_model = models.vgg16(pretrained=True).to(device)\n",
        "feature_extractor_vgg16 = nn.Sequential(*list(vgg16_model.features.children())).to(device)\n",
        "feature_extractor_vgg16.eval()"
      ]
    },
    {
      "cell_type": "code",
      "execution_count": 34,
      "metadata": {
        "id": "NYjEu9W9lUQs"
      },
      "outputs": [],
      "source": [
        "# استخراج ویژگی‌ها\n",
        "vgg16_train_features, vgg16_train_labels = extract_vgg16_features(vgg16_train_loader)\n",
        "vgg16_test_features, vgg16_test_labels = extract_vgg16_features(vgg16_test_loader)\n"
      ]
    },
    {
      "cell_type": "code",
      "execution_count": 35,
      "metadata": {
        "id": "wwxH3ie2lV5T"
      },
      "outputs": [],
      "source": [
        "# ذخیره‌سازی\n",
        "np.savez_compressed(\"vgg16_train_features.npz\", features=vgg16_train_features, labels=vgg16_train_labels)\n",
        "np.savez_compressed(\"vgg16_test_features.npz\", features=vgg16_test_features, labels=vgg16_test_labels)"
      ]
    },
    {
      "cell_type": "code",
      "execution_count": 36,
      "metadata": {
        "colab": {
          "base_uri": "https://localhost:8080/"
        },
        "id": "WUZ58LYq0ysS",
        "outputId": "c31ff4fa-b5a4-4027-981e-458d249b77ab"
      },
      "outputs": [
        {
          "output_type": "stream",
          "name": "stdout",
          "text": [
            "Train Features Shape: (4000, 25088)\n",
            "Test Features Shape: (1000, 25088)\n"
          ]
        }
      ],
      "source": [
        "# نمایش شکل ویژگی‌ها\n",
        "print(\"Train Features Shape:\", vgg16_train_features.shape)\n",
        "print(\"Test Features Shape:\", vgg16_test_features.shape)"
      ]
    },
    {
      "cell_type": "code",
      "execution_count": 37,
      "metadata": {
        "id": "mu2siaMmUZQB"
      },
      "outputs": [],
      "source": [
        "del vgg16_train_features\n",
        "del vgg16_train_labels\n",
        "del vgg16_test_features\n",
        "del vgg16_test_labels"
      ]
    },
    {
      "cell_type": "code",
      "execution_count": 38,
      "metadata": {
        "id": "Yqo1WCFxUb99"
      },
      "outputs": [],
      "source": [
        "del vgg16_train_loader\n",
        "del vgg16_test_loader"
      ]
    },
    {
      "cell_type": "markdown",
      "metadata": {
        "id": "dHBstV1YRpEi"
      },
      "source": [
        "`Load VGG16 Features`"
      ]
    },
    {
      "cell_type": "code",
      "execution_count": 39,
      "metadata": {
        "id": "p5FUSaYU7uSJ"
      },
      "outputs": [],
      "source": [
        "# بارگذاری ویژگی‌ها از فایل‌های npz\n",
        "vgg16_train_data = np.load('/content/vgg16_train_features.npz')\n",
        "vgg16_test_data = np.load('/content/vgg16_test_features.npz')"
      ]
    },
    {
      "cell_type": "code",
      "execution_count": 40,
      "metadata": {
        "colab": {
          "base_uri": "https://localhost:8080/"
        },
        "id": "1iA4fn6E-A90",
        "outputId": "96ef5e28-a316-4f9c-aa96-923aac027354"
      },
      "outputs": [
        {
          "output_type": "stream",
          "name": "stdout",
          "text": [
            "Shape of features: (1000, 25088)\n"
          ]
        }
      ],
      "source": [
        "vgg16_train_features = vgg16_train_data['features']\n",
        "vgg16_train_labels = vgg16_train_data['labels']\n",
        "vgg16_test_features = vgg16_test_data['features']\n",
        "vgg16_test_labels = vgg16_test_data['labels']\n",
        "print(f\"Shape of features: {vgg16_test_features.shape}\")"
      ]
    },
    {
      "cell_type": "markdown",
      "metadata": {
        "id": "VI6WHAQsNRi0"
      },
      "source": [
        "# Train SVM model with VGG features (SVM + VGG)"
      ]
    },
    {
      "cell_type": "code",
      "execution_count": 41,
      "metadata": {
        "id": "3LJOSUEbSD11"
      },
      "outputs": [],
      "source": [
        "encoder = LabelEncoder()\n",
        "vgg16_train_labels = encoder.fit_transform(vgg16_train_labels)\n",
        "vgg16_test_labels = encoder.transform(vgg16_test_labels)"
      ]
    },
    {
      "cell_type": "code",
      "execution_count": null,
      "metadata": {
        "colab": {
          "base_uri": "https://localhost:8080/"
        },
        "id": "AstjXE7CNQq4",
        "outputId": "fda687aa-a2c3-4bf9-fe6b-654166b78aa3"
      },
      "outputs": [
        {
          "name": "stdout",
          "output_type": "stream",
          "text": [
            "SVM Accuracy: 0.8420\n",
            "SVM Precision: 0.8406\n",
            "SVM Recall: 0.8420\n",
            "SVM F1 Score: 0.8407\n"
          ]
        }
      ],
      "source": [
        "# آموزش مدل SVM با کرنل خطی\n",
        "svm_model = SVC(kernel='linear', random_state=42)\n",
        "svm_model.fit(vgg16_train_features, vgg16_train_labels)\n",
        "\n",
        "# پیش‌بینی‌ها\n",
        "svm_predictions = svm_model.predict(vgg16_test_features)\n",
        "\n",
        "# ارزیابی مدل\n",
        "accuracy_svm = accuracy_score(vgg16_test_labels, svm_predictions)\n",
        "precision_svm = precision_score(vgg16_test_labels, svm_predictions, average='weighted')\n",
        "recall_svm = recall_score(vgg16_test_labels, svm_predictions, average='weighted')\n",
        "f1_svm = f1_score(vgg16_test_labels, svm_predictions, average='weighted')\n",
        "\n",
        "# نمایش نتایج\n",
        "print(f\"SVM Accuracy: {accuracy_svm:.4f}\")\n",
        "print(f\"SVM Precision: {precision_svm:.4f}\")\n",
        "print(f\"SVM Recall: {recall_svm:.4f}\")\n",
        "print(f\"SVM F1 Score: {f1_svm:.4f}\")\n",
        "\n"
      ]
    },
    {
      "cell_type": "code",
      "execution_count": null,
      "metadata": {
        "colab": {
          "base_uri": "https://localhost:8080/",
          "height": 497
        },
        "id": "gKepPNWLJMbE",
        "outputId": "474cac8e-7be0-45d0-ebf3-73b4fca93542"
      },
      "outputs": [
        {
          "data": {
            "text/plain": [
              "<Figure size 800x600 with 0 Axes>"
            ]
          },
          "metadata": {},
          "output_type": "display_data"
        },
        {
          "data": {
            "image/png": "[encoded data removed]",
            "text/plain": [
              "<Figure size 640x480 with 2 Axes>"
            ]
          },
          "metadata": {},
          "output_type": "display_data"
        }
      ],
      "source": [
        "# ساخت ماتریس درهم‌ریختگی\n",
        "conf_mat_svm = confusion_matrix(vgg16_test_labels, svm_predictions)\n",
        "\n",
        "# رسم ماتریس\n",
        "disp = ConfusionMatrixDisplay(confusion_matrix=conf_mat_svm, display_labels=encoder.classes_)\n",
        "plt.figure(figsize=(8, 6))\n",
        "disp.plot(cmap=plt.cm.Blues, xticks_rotation=45)\n",
        "plt.title(\"Confusion Matrix - SVM\")\n",
        "plt.show()"
      ]
    },
    {
      "cell_type": "markdown",
      "metadata": {
        "id": "9yGDYgCU2eHW"
      },
      "source": [
        "#SVM(RBF) + VGG"
      ]
    },
    {
      "cell_type": "code",
      "source": [
        "encoder = LabelEncoder()\n",
        "vgg16_train_labels = encoder.fit_transform(vgg16_train_labels)\n",
        "vgg16_test_labels = encoder.transform(vgg16_test_labels)"
      ],
      "metadata": {
        "id": "Q5bPnRH2hJt0"
      },
      "execution_count": 42,
      "outputs": []
    },
    {
      "cell_type": "code",
      "execution_count": 43,
      "metadata": {
        "id": "305LCPxizzGs",
        "colab": {
          "base_uri": "https://localhost:8080/",
          "height": 81
        },
        "outputId": "c60caa66-60e2-411c-d16e-2d3c3da4ed97"
      },
      "outputs": [
        {
          "output_type": "execute_result",
          "data": {
            "text/plain": [
              "SVC(random_state=42)"
            ],
            "text/html": [
              "<style>#sk-container-id-1 {\n",
              "  /* Definition of color scheme common for light and dark mode */\n",
              "  --sklearn-color-text: #000;\n",
              "  --sklearn-color-text-muted: #666;\n",
              "  --sklearn-color-line: gray;\n",
              "  /* Definition of color scheme for unfitted estimators */\n",
              "  --sklearn-color-unfitted-level-0: #fff5e6;\n",
              "  --sklearn-color-unfitted-level-1: #f6e4d2;\n",
              "  --sklearn-color-unfitted-level-2: #ffe0b3;\n",
              "  --sklearn-color-unfitted-level-3: chocolate;\n",
              "  /* Definition of color scheme for fitted estimators */\n",
              "  --sklearn-color-fitted-level-0: #f0f8ff;\n",
              "  --sklearn-color-fitted-level-1: #d4ebff;\n",
              "  --sklearn-color-fitted-level-2: #b3dbfd;\n",
              "  --sklearn-color-fitted-level-3: cornflowerblue;\n",
              "\n",
              "  /* Specific color for light theme */\n",
              "  --sklearn-color-text-on-default-background: var(--sg-text-color, var(--theme-code-foreground, var(--jp-content-font-color1, black)));\n",
              "  --sklearn-color-background: var(--sg-background-color, var(--theme-background, var(--jp-layout-color0, white)));\n",
              "  --sklearn-color-border-box: var(--sg-text-color, var(--theme-code-foreground, var(--jp-content-font-color1, black)));\n",
              "  --sklearn-color-icon: #696969;\n",
              "\n",
              "  @media (prefers-color-scheme: dark) {\n",
              "    /* Redefinition of color scheme for dark theme */\n",
              "    --sklearn-color-text-on-default-background: var(--sg-text-color, var(--theme-code-foreground, var(--jp-content-font-color1, white)));\n",
              "    --sklearn-color-background: var(--sg-background-color, var(--theme-background, var(--jp-layout-color0, #111)));\n",
              "    --sklearn-color-border-box: var(--sg-text-color, var(--theme-code-foreground, var(--jp-content-font-color1, white)));\n",
              "    --sklearn-color-icon: #878787;\n",
              "  }\n",
              "}\n",
              "\n",
              "#sk-container-id-1 {\n",
              "  color: var(--sklearn-color-text);\n",
              "}\n",
              "\n",
              "#sk-container-id-1 pre {\n",
              "  padding: 0;\n",
              "}\n",
              "\n",
              "#sk-container-id-1 input.sk-hidden--visually {\n",
              "  border: 0;\n",
              "  clip: rect(1px 1px 1px 1px);\n",
              "  clip: rect(1px, 1px, 1px, 1px);\n",
              "  height: 1px;\n",
              "  margin: -1px;\n",
              "  overflow: hidden;\n",
              "  padding: 0;\n",
              "  position: absolute;\n",
              "  width: 1px;\n",
              "}\n",
              "\n",
              "#sk-container-id-1 div.sk-dashed-wrapped {\n",
              "  border: 1px dashed var(--sklearn-color-line);\n",
              "  margin: 0 0.4em 0.5em 0.4em;\n",
              "  box-sizing: border-box;\n",
              "  padding-bottom: 0.4em;\n",
              "  background-color: var(--sklearn-color-background);\n",
              "}\n",
              "\n",
              "#sk-container-id-1 div.sk-container {\n",
              "  /* jupyter's `normalize.less` sets `[hidden] { display: none; }`\n",
              "     but bootstrap.min.css set `[hidden] { display: none !important; }`\n",
              "     so we also need the `!important` here to be able to override the\n",
              "     default hidden behavior on the sphinx rendered scikit-learn.org.\n",
              "     See: https://github.com/scikit-learn/scikit-learn/issues/21755 */\n",
              "  display: inline-block !important;\n",
              "  position: relative;\n",
              "}\n",
              "\n",
              "#sk-container-id-1 div.sk-text-repr-fallback {\n",
              "  display: none;\n",
              "}\n",
              "\n",
              "div.sk-parallel-item,\n",
              "div.sk-serial,\n",
              "div.sk-item {\n",
              "  /* draw centered vertical line to link estimators */\n",
              "  background-image: linear-gradient(var(--sklearn-color-text-on-default-background), var(--sklearn-color-text-on-default-background));\n",
              "  background-size: 2px 100%;\n",
              "  background-repeat: no-repeat;\n",
              "  background-position: center center;\n",
              "}\n",
              "\n",
              "/* Parallel-specific style estimator block */\n",
              "\n",
              "#sk-container-id-1 div.sk-parallel-item::after {\n",
              "  content: \"\";\n",
              "  width: 100%;\n",
              "  border-bottom: 2px solid var(--sklearn-color-text-on-default-background);\n",
              "  flex-grow: 1;\n",
              "}\n",
              "\n",
              "#sk-container-id-1 div.sk-parallel {\n",
              "  display: flex;\n",
              "  align-items: stretch;\n",
              "  justify-content: center;\n",
              "  background-color: var(--sklearn-color-background);\n",
              "  position: relative;\n",
              "}\n",
              "\n",
              "#sk-container-id-1 div.sk-parallel-item {\n",
              "  display: flex;\n",
              "  flex-direction: column;\n",
              "}\n",
              "\n",
              "#sk-container-id-1 div.sk-parallel-item:first-child::after {\n",
              "  align-self: flex-end;\n",
              "  width: 50%;\n",
              "}\n",
              "\n",
              "#sk-container-id-1 div.sk-parallel-item:last-child::after {\n",
              "  align-self: flex-start;\n",
              "  width: 50%;\n",
              "}\n",
              "\n",
              "#sk-container-id-1 div.sk-parallel-item:only-child::after {\n",
              "  width: 0;\n",
              "}\n",
              "\n",
              "/* Serial-specific style estimator block */\n",
              "\n",
              "#sk-container-id-1 div.sk-serial {\n",
              "  display: flex;\n",
              "  flex-direction: column;\n",
              "  align-items: center;\n",
              "  background-color: var(--sklearn-color-background);\n",
              "  padding-right: 1em;\n",
              "  padding-left: 1em;\n",
              "}\n",
              "\n",
              "\n",
              "/* Toggleable style: style used for estimator/Pipeline/ColumnTransformer box that is\n",
              "clickable and can be expanded/collapsed.\n",
              "- Pipeline and ColumnTransformer use this feature and define the default style\n",
              "- Estimators will overwrite some part of the style using the `sk-estimator` class\n",
              "*/\n",
              "\n",
              "/* Pipeline and ColumnTransformer style (default) */\n",
              "\n",
              "#sk-container-id-1 div.sk-toggleable {\n",
              "  /* Default theme specific background. It is overwritten whether we have a\n",
              "  specific estimator or a Pipeline/ColumnTransformer */\n",
              "  background-color: var(--sklearn-color-background);\n",
              "}\n",
              "\n",
              "/* Toggleable label */\n",
              "#sk-container-id-1 label.sk-toggleable__label {\n",
              "  cursor: pointer;\n",
              "  display: flex;\n",
              "  width: 100%;\n",
              "  margin-bottom: 0;\n",
              "  padding: 0.5em;\n",
              "  box-sizing: border-box;\n",
              "  text-align: center;\n",
              "  align-items: start;\n",
              "  justify-content: space-between;\n",
              "  gap: 0.5em;\n",
              "}\n",
              "\n",
              "#sk-container-id-1 label.sk-toggleable__label .caption {\n",
              "  font-size: 0.6rem;\n",
              "  font-weight: lighter;\n",
              "  color: var(--sklearn-color-text-muted);\n",
              "}\n",
              "\n",
              "#sk-container-id-1 label.sk-toggleable__label-arrow:before {\n",
              "  /* Arrow on the left of the label */\n",
              "  content: \"▸\";\n",
              "  float: left;\n",
              "  margin-right: 0.25em;\n",
              "  color: var(--sklearn-color-icon);\n",
              "}\n",
              "\n",
              "#sk-container-id-1 label.sk-toggleable__label-arrow:hover:before {\n",
              "  color: var(--sklearn-color-text);\n",
              "}\n",
              "\n",
              "/* Toggleable content - dropdown */\n",
              "\n",
              "#sk-container-id-1 div.sk-toggleable__content {\n",
              "  max-height: 0;\n",
              "  max-width: 0;\n",
              "  overflow: hidden;\n",
              "  text-align: left;\n",
              "  /* unfitted */\n",
              "  background-color: var(--sklearn-color-unfitted-level-0);\n",
              "}\n",
              "\n",
              "#sk-container-id-1 div.sk-toggleable__content.fitted {\n",
              "  /* fitted */\n",
              "  background-color: var(--sklearn-color-fitted-level-0);\n",
              "}\n",
              "\n",
              "#sk-container-id-1 div.sk-toggleable__content pre {\n",
              "  margin: 0.2em;\n",
              "  border-radius: 0.25em;\n",
              "  color: var(--sklearn-color-text);\n",
              "  /* unfitted */\n",
              "  background-color: var(--sklearn-color-unfitted-level-0);\n",
              "}\n",
              "\n",
              "#sk-container-id-1 div.sk-toggleable__content.fitted pre {\n",
              "  /* unfitted */\n",
              "  background-color: var(--sklearn-color-fitted-level-0);\n",
              "}\n",
              "\n",
              "#sk-container-id-1 input.sk-toggleable__control:checked~div.sk-toggleable__content {\n",
              "  /* Expand drop-down */\n",
              "  max-height: 200px;\n",
              "  max-width: 100%;\n",
              "  overflow: auto;\n",
              "}\n",
              "\n",
              "#sk-container-id-1 input.sk-toggleable__control:checked~label.sk-toggleable__label-arrow:before {\n",
              "  content: \"▾\";\n",
              "}\n",
              "\n",
              "/* Pipeline/ColumnTransformer-specific style */\n",
              "\n",
              "#sk-container-id-1 div.sk-label input.sk-toggleable__control:checked~label.sk-toggleable__label {\n",
              "  color: var(--sklearn-color-text);\n",
              "  background-color: var(--sklearn-color-unfitted-level-2);\n",
              "}\n",
              "\n",
              "#sk-container-id-1 div.sk-label.fitted input.sk-toggleable__control:checked~label.sk-toggleable__label {\n",
              "  background-color: var(--sklearn-color-fitted-level-2);\n",
              "}\n",
              "\n",
              "/* Estimator-specific style */\n",
              "\n",
              "/* Colorize estimator box */\n",
              "#sk-container-id-1 div.sk-estimator input.sk-toggleable__control:checked~label.sk-toggleable__label {\n",
              "  /* unfitted */\n",
              "  background-color: var(--sklearn-color-unfitted-level-2);\n",
              "}\n",
              "\n",
              "#sk-container-id-1 div.sk-estimator.fitted input.sk-toggleable__control:checked~label.sk-toggleable__label {\n",
              "  /* fitted */\n",
              "  background-color: var(--sklearn-color-fitted-level-2);\n",
              "}\n",
              "\n",
              "#sk-container-id-1 div.sk-label label.sk-toggleable__label,\n",
              "#sk-container-id-1 div.sk-label label {\n",
              "  /* The background is the default theme color */\n",
              "  color: var(--sklearn-color-text-on-default-background);\n",
              "}\n",
              "\n",
              "/* On hover, darken the color of the background */\n",
              "#sk-container-id-1 div.sk-label:hover label.sk-toggleable__label {\n",
              "  color: var(--sklearn-color-text);\n",
              "  background-color: var(--sklearn-color-unfitted-level-2);\n",
              "}\n",
              "\n",
              "/* Label box, darken color on hover, fitted */\n",
              "#sk-container-id-1 div.sk-label.fitted:hover label.sk-toggleable__label.fitted {\n",
              "  color: var(--sklearn-color-text);\n",
              "  background-color: var(--sklearn-color-fitted-level-2);\n",
              "}\n",
              "\n",
              "/* Estimator label */\n",
              "\n",
              "#sk-container-id-1 div.sk-label label {\n",
              "  font-family: monospace;\n",
              "  font-weight: bold;\n",
              "  display: inline-block;\n",
              "  line-height: 1.2em;\n",
              "}\n",
              "\n",
              "#sk-container-id-1 div.sk-label-container {\n",
              "  text-align: center;\n",
              "}\n",
              "\n",
              "/* Estimator-specific */\n",
              "#sk-container-id-1 div.sk-estimator {\n",
              "  font-family: monospace;\n",
              "  border: 1px dotted var(--sklearn-color-border-box);\n",
              "  border-radius: 0.25em;\n",
              "  box-sizing: border-box;\n",
              "  margin-bottom: 0.5em;\n",
              "  /* unfitted */\n",
              "  background-color: var(--sklearn-color-unfitted-level-0);\n",
              "}\n",
              "\n",
              "#sk-container-id-1 div.sk-estimator.fitted {\n",
              "  /* fitted */\n",
              "  background-color: var(--sklearn-color-fitted-level-0);\n",
              "}\n",
              "\n",
              "/* on hover */\n",
              "#sk-container-id-1 div.sk-estimator:hover {\n",
              "  /* unfitted */\n",
              "  background-color: var(--sklearn-color-unfitted-level-2);\n",
              "}\n",
              "\n",
              "#sk-container-id-1 div.sk-estimator.fitted:hover {\n",
              "  /* fitted */\n",
              "  background-color: var(--sklearn-color-fitted-level-2);\n",
              "}\n",
              "\n",
              "/* Specification for estimator info (e.g. \"i\" and \"?\") */\n",
              "\n",
              "/* Common style for \"i\" and \"?\" */\n",
              "\n",
              ".sk-estimator-doc-link,\n",
              "a:link.sk-estimator-doc-link,\n",
              "a:visited.sk-estimator-doc-link {\n",
              "  float: right;\n",
              "  font-size: smaller;\n",
              "  line-height: 1em;\n",
              "  font-family: monospace;\n",
              "  background-color: var(--sklearn-color-background);\n",
              "  border-radius: 1em;\n",
              "  height: 1em;\n",
              "  width: 1em;\n",
              "  text-decoration: none !important;\n",
              "  margin-left: 0.5em;\n",
              "  text-align: center;\n",
              "  /* unfitted */\n",
              "  border: var(--sklearn-color-unfitted-level-1) 1pt solid;\n",
              "  color: var(--sklearn-color-unfitted-level-1);\n",
              "}\n",
              "\n",
              ".sk-estimator-doc-link.fitted,\n",
              "a:link.sk-estimator-doc-link.fitted,\n",
              "a:visited.sk-estimator-doc-link.fitted {\n",
              "  /* fitted */\n",
              "  border: var(--sklearn-color-fitted-level-1) 1pt solid;\n",
              "  color: var(--sklearn-color-fitted-level-1);\n",
              "}\n",
              "\n",
              "/* On hover */\n",
              "div.sk-estimator:hover .sk-estimator-doc-link:hover,\n",
              ".sk-estimator-doc-link:hover,\n",
              "div.sk-label-container:hover .sk-estimator-doc-link:hover,\n",
              ".sk-estimator-doc-link:hover {\n",
              "  /* unfitted */\n",
              "  background-color: var(--sklearn-color-unfitted-level-3);\n",
              "  color: var(--sklearn-color-background);\n",
              "  text-decoration: none;\n",
              "}\n",
              "\n",
              "div.sk-estimator.fitted:hover .sk-estimator-doc-link.fitted:hover,\n",
              ".sk-estimator-doc-link.fitted:hover,\n",
              "div.sk-label-container:hover .sk-estimator-doc-link.fitted:hover,\n",
              ".sk-estimator-doc-link.fitted:hover {\n",
              "  /* fitted */\n",
              "  background-color: var(--sklearn-color-fitted-level-3);\n",
              "  color: var(--sklearn-color-background);\n",
              "  text-decoration: none;\n",
              "}\n",
              "\n",
              "/* Span, style for the box shown on hovering the info icon */\n",
              ".sk-estimator-doc-link span {\n",
              "  display: none;\n",
              "  z-index: 9999;\n",
              "  position: relative;\n",
              "  font-weight: normal;\n",
              "  right: .2ex;\n",
              "  padding: .5ex;\n",
              "  margin: .5ex;\n",
              "  width: min-content;\n",
              "  min-width: 20ex;\n",
              "  max-width: 50ex;\n",
              "  color: var(--sklearn-color-text);\n",
              "  box-shadow: 2pt 2pt 4pt #999;\n",
              "  /* unfitted */\n",
              "  background: var(--sklearn-color-unfitted-level-0);\n",
              "  border: .5pt solid var(--sklearn-color-unfitted-level-3);\n",
              "}\n",
              "\n",
              ".sk-estimator-doc-link.fitted span {\n",
              "  /* fitted */\n",
              "  background: var(--sklearn-color-fitted-level-0);\n",
              "  border: var(--sklearn-color-fitted-level-3);\n",
              "}\n",
              "\n",
              ".sk-estimator-doc-link:hover span {\n",
              "  display: block;\n",
              "}\n",
              "\n",
              "/* \"?\"-specific style due to the `<a>` HTML tag */\n",
              "\n",
              "#sk-container-id-1 a.estimator_doc_link {\n",
              "  float: right;\n",
              "  font-size: 1rem;\n",
              "  line-height: 1em;\n",
              "  font-family: monospace;\n",
              "  background-color: var(--sklearn-color-background);\n",
              "  border-radius: 1rem;\n",
              "  height: 1rem;\n",
              "  width: 1rem;\n",
              "  text-decoration: none;\n",
              "  /* unfitted */\n",
              "  color: var(--sklearn-color-unfitted-level-1);\n",
              "  border: var(--sklearn-color-unfitted-level-1) 1pt solid;\n",
              "}\n",
              "\n",
              "#sk-container-id-1 a.estimator_doc_link.fitted {\n",
              "  /* fitted */\n",
              "  border: var(--sklearn-color-fitted-level-1) 1pt solid;\n",
              "  color: var(--sklearn-color-fitted-level-1);\n",
              "}\n",
              "\n",
              "/* On hover */\n",
              "#sk-container-id-1 a.estimator_doc_link:hover {\n",
              "  /* unfitted */\n",
              "  background-color: var(--sklearn-color-unfitted-level-3);\n",
              "  color: var(--sklearn-color-background);\n",
              "  text-decoration: none;\n",
              "}\n",
              "\n",
              "#sk-container-id-1 a.estimator_doc_link.fitted:hover {\n",
              "  /* fitted */\n",
              "  background-color: var(--sklearn-color-fitted-level-3);\n",
              "}\n",
              "</style><div id=\"sk-container-id-1\" class=\"sk-top-container\"><div class=\"sk-text-repr-fallback\"><pre>SVC(random_state=42)</pre><b>In a Jupyter environment, please rerun this cell to show the HTML representation or trust the notebook. <br />On GitHub, the HTML representation is unable to render, please try loading this page with nbviewer.org.</b></div><div class=\"sk-container\" hidden><div class=\"sk-item\"><div class=\"sk-estimator fitted sk-toggleable\"><input class=\"sk-toggleable__control sk-hidden--visually\" id=\"sk-estimator-id-1\" type=\"checkbox\" checked><label for=\"sk-estimator-id-1\" class=\"sk-toggleable__label fitted sk-toggleable__label-arrow\"><div><div>SVC</div></div><div><a class=\"sk-estimator-doc-link fitted\" rel=\"noreferrer\" target=\"_blank\" href=\"https://scikit-learn.org/1.6/modules/generated/sklearn.svm.SVC.html\">?<span>Documentation for SVC</span></a><span class=\"sk-estimator-doc-link fitted\">i<span>Fitted</span></span></div></label><div class=\"sk-toggleable__content fitted\"><pre>SVC(random_state=42)</pre></div> </div></div></div></div>"
            ]
          },
          "metadata": {},
          "execution_count": 43
        }
      ],
      "source": [
        "# آموزش مدل SVM با کرنل RBF\n",
        "svm_model_rbf = SVC(kernel='rbf', random_state=42)\n",
        "svm_model_rbf.fit(vgg16_train_features, vgg16_train_labels)"
      ]
    },
    {
      "cell_type": "code",
      "execution_count": 44,
      "metadata": {
        "id": "RkX3cj1ry_nX"
      },
      "outputs": [],
      "source": [
        "# پیش‌بینی‌ها\n",
        "svm_predictions_rbf = svm_model_rbf.predict(vgg16_test_features)"
      ]
    },
    {
      "cell_type": "code",
      "execution_count": 45,
      "metadata": {
        "id": "yKUWrYSWy8RE",
        "colab": {
          "base_uri": "https://localhost:8080/"
        },
        "outputId": "e4f2be42-57b4-4b6f-ca85-96cd1122a7cc"
      },
      "outputs": [
        {
          "output_type": "stream",
          "name": "stdout",
          "text": [
            " ارزیابی SVM با کرنل RBF:\n",
            "SVM (RBF) Accuracy:  0.8600\n",
            "SVM (RBF) Precision: 0.8591\n",
            "SVM (RBF) Recall:    0.8600\n",
            "SVM (RBF) F1 Score:  0.8591\n"
          ]
        }
      ],
      "source": [
        "# ارزیابی مدل\n",
        "accuracy_rbf = accuracy_score(vgg16_test_labels, svm_predictions_rbf)\n",
        "precision_rbf = precision_score(vgg16_test_labels, svm_predictions_rbf, average='weighted')\n",
        "recall_rbf = recall_score(vgg16_test_labels, svm_predictions_rbf, average='weighted')\n",
        "f1_rbf = f1_score(vgg16_test_labels, svm_predictions_rbf, average='weighted')\n",
        "\n",
        "# نمایش نتایج\n",
        "print(\" ارزیابی SVM با کرنل RBF:\")\n",
        "print(f\"SVM (RBF) Accuracy:  {accuracy_rbf:.4f}\")\n",
        "print(f\"SVM (RBF) Precision: {precision_rbf:.4f}\")\n",
        "print(f\"SVM (RBF) Recall:    {recall_rbf:.4f}\")\n",
        "print(f\"SVM (RBF) F1 Score:  {f1_rbf:.4f}\")"
      ]
    },
    {
      "cell_type": "code",
      "execution_count": 47,
      "metadata": {
        "id": "7xP63AuBLK0m",
        "colab": {
          "base_uri": "https://localhost:8080/",
          "height": 491
        },
        "outputId": "78e050dd-3716-46ab-cbe6-d8e1327674fb"
      },
      "outputs": [
        {
          "output_type": "display_data",
          "data": {
            "text/plain": [
              "<Figure size 800x600 with 0 Axes>"
            ]
          },
          "metadata": {}
        },
        {
          "output_type": "display_data",
          "data": {
            "text/plain": [
              "<Figure size 640x480 with 2 Axes>"
            ],
            "image/png": "[encoded data removed]"
          },
          "metadata": {}
        }
      ],
      "source": [
        "cm = confusion_matrix(vgg16_test_labels, svm_predictions_rbf)\n",
        "# رسم ماتریس\n",
        "disp = ConfusionMatrixDisplay(confusion_matrix=cm, display_labels=encoder.classes_)\n",
        "plt.figure(figsize=(8, 6))\n",
        "disp.plot(cmap=plt.cm.Blues, xticks_rotation=45)\n",
        "plt.title(\"Confusion Matrix (SVM with RBF Kernel)\")\n",
        "plt.show()"
      ]
    },
    {
      "cell_type": "markdown",
      "metadata": {
        "id": "BQX5t_2EQ8qJ"
      },
      "source": [
        "#Train VGG Model (FC Layer)"
      ]
    },
    {
      "cell_type": "code",
      "execution_count": null,
      "metadata": {
        "id": "-pmQSQ0vFdPq"
      },
      "outputs": [],
      "source": [
        "fc_encoder = LabelEncoder()\n",
        "vgg16_train_labels = fc_encoder.fit_transform(vgg16_train_labels)\n",
        "vgg16_test_labels = fc_encoder.transform(vgg16_test_labels)\n",
        "classes_len = len(fc_encoder.classes_)"
      ]
    },
    {
      "cell_type": "code",
      "execution_count": null,
      "metadata": {
        "id": "A2W3toXzREcC"
      },
      "outputs": [],
      "source": [
        "# تبدیل ویژگی‌ها و لیبل‌ها به tensor\n",
        "vgg16_train_features_tensor = torch.tensor(vgg16_train_features, dtype=torch.float32)\n",
        "vgg16_train_labels_tensor = torch.tensor(vgg16_train_labels, dtype=torch.long)\n",
        "\n",
        "vgg16_test_features_tensor = torch.tensor(vgg16_test_features, dtype=torch.float32)\n",
        "vgg16_test_labels_tensor = torch.tensor(vgg16_test_labels, dtype=torch.long)\n",
        "\n",
        "# ساخت Dataset و DataLoader\n",
        "vgg16_train_dataset = TensorDataset(vgg16_train_features_tensor, vgg16_train_labels_tensor)\n",
        "vgg16_test_dataset = TensorDataset(vgg16_test_features_tensor, vgg16_test_labels_tensor)\n",
        "\n",
        "vgg16_train_loader = DataLoader(vgg16_train_dataset, batch_size=16, shuffle=True)\n",
        "vgg16_test_loader = DataLoader(vgg16_test_dataset, batch_size=16, shuffle=False)\n"
      ]
    },
    {
      "cell_type": "code",
      "execution_count": null,
      "metadata": {
        "id": "7F3usjgd_Uln"
      },
      "outputs": [],
      "source": [
        "# مدل FC شبیه VGG16 (فقط بخش طبقه‌بند)\n",
        "class VGG16UniqueClassifier(nn.Module):\n",
        "    def __init__(self, input_dim, num_classes):\n",
        "        super(VGG16UniqueClassifier, self).__init__()\n",
        "        self.classifier = nn.Sequential(\n",
        "            nn.Linear(input_dim, 4096),\n",
        "            nn.ReLU(inplace=True),\n",
        "            nn.Dropout(0.5),\n",
        "            nn.Linear(4096, 4096),\n",
        "            nn.ReLU(inplace=True),\n",
        "            nn.Dropout(0.5),\n",
        "            nn.Linear(4096, num_classes)\n",
        "        )\n",
        "\n",
        "    def forward(self, x):\n",
        "        return self.classifier(x)\n",
        "\n",
        "# دستگاه\n",
        "vgg16_unique_model = VGG16UniqueClassifier(\n",
        "    input_dim=vgg16_train_features.shape[1],\n",
        "    num_classes=fc_encoder\n",
        ").to(device)"
      ]
    },
    {
      "cell_type": "code",
      "execution_count": null,
      "metadata": {
        "colab": {
          "base_uri": "https://localhost:8080/"
        },
        "id": "fwdfEhcG4uH1",
        "outputId": "736ccf49-0417-4fad-be24-31a60fac8c93"
      },
      "outputs": [
        {
          "output_type": "stream",
          "name": "stdout",
          "text": [
            "tensor(False)\n",
            "tensor(9)\n"
          ]
        }
      ],
      "source": [
        "#بررسی اینکه آیا مقدار\n",
        "#null\n",
        "#وجود دارد که مانع ادامه ایپاک شود.\n",
        "print(torch.isnan(vgg16_train_features_tensor).any())  # آیا NaN داره؟\n",
        "print(torch.max(vgg16_train_labels_tensor))  # حداکثر کلاس\n"
      ]
    },
    {
      "cell_type": "code",
      "execution_count": null,
      "metadata": {
        "id": "eaPP5AEr_aJC"
      },
      "outputs": [],
      "source": [
        "# آموزش\n",
        "vgg16_unique_criterion = nn.CrossEntropyLoss()\n",
        "vgg16_unique_optimizer = optim.Adam(vgg16_unique_model.parameters(), lr=1e-4)\n",
        "vgg16_unique_epochs = 20\n",
        "\n",
        "for epoch in range(vgg16_unique_epochs):\n",
        "    vgg16_unique_model.train()\n",
        "    total_loss = 0\n",
        "    for x_batch, y_batch in vgg16_train_loader:\n",
        "        x_batch, y_batch = x_batch.to(device), y_batch.to(device)\n",
        "        vgg16_unique_optimizer.zero_grad()\n",
        "        outputs = vgg16_unique_model(x_batch)\n",
        "        loss = vgg16_unique_criterion(outputs, y_batch)\n",
        "        loss.backward()\n",
        "        vgg16_unique_optimizer.step()\n",
        "        total_loss += loss.item()\n",
        "    print(f\"[VGG16] Epoch {epoch+1}/{vgg16_unique_epochs}, Loss: {total_loss:.4f}\")\n"
      ]
    },
    {
      "cell_type": "code",
      "execution_count": null,
      "metadata": {
        "colab": {
          "base_uri": "https://localhost:8080/"
        },
        "id": "5Pd8iGHB_kRL",
        "outputId": "403bf560-63ef-42e1-a6de-80abf67279b4"
      },
      "outputs": [
        {
          "output_type": "stream",
          "name": "stdout",
          "text": [
            "\n",
            "[VGG16 Unique Evaluation Results]\n",
            "Accuracy: 0.8210\n",
            "Precision: 0.8401\n",
            "Recall: 0.8210\n",
            "F1 Score: 0.8150\n"
          ]
        }
      ],
      "source": [
        "# ارزیابی\n",
        "vgg16_unique_model.eval()\n",
        "vgg16_unique_preds = []\n",
        "vgg16_unique_targets = []\n",
        "\n",
        "with torch.no_grad():\n",
        "    for x_batch, y_batch in vgg16_test_loader:\n",
        "        x_batch = x_batch.to(device)\n",
        "        outputs = vgg16_unique_model(x_batch)\n",
        "        _, preds = torch.max(outputs, 1)\n",
        "        vgg16_unique_preds.extend(preds.cpu().numpy())\n",
        "        vgg16_unique_targets.extend(y_batch.numpy())\n",
        "\n",
        "# متریک‌ها\n",
        "vgg16_unique_acc = accuracy_score(vgg16_unique_targets, vgg16_unique_preds)\n",
        "vgg16_unique_prec = precision_score(vgg16_unique_targets, vgg16_unique_preds, average='weighted')\n",
        "vgg16_unique_rec = recall_score(vgg16_unique_targets, vgg16_unique_preds, average='weighted')\n",
        "vgg16_unique_f1 = f1_score(vgg16_unique_targets, vgg16_unique_preds, average='weighted')\n",
        "\n",
        "print(f\"\\n[VGG16 Unique Evaluation Results]\")\n",
        "print(f\"Accuracy: {vgg16_unique_acc:.4f}\")\n",
        "print(f\"Precision: {vgg16_unique_prec:.4f}\")\n",
        "print(f\"Recall: {vgg16_unique_rec:.4f}\")\n",
        "print(f\"F1 Score: {vgg16_unique_f1:.4f}\")"
      ]
    },
    {
      "cell_type": "code",
      "execution_count": null,
      "metadata": {
        "colab": {
          "base_uri": "https://localhost:8080/",
          "height": 491
        },
        "id": "kt-9kVR1bGT-",
        "outputId": "407de8b1-6080-4fb3-f53b-7dfb360e0f79"
      },
      "outputs": [
        {
          "output_type": "display_data",
          "data": {
            "text/plain": [
              "<Figure size 800x600 with 0 Axes>"
            ]
          },
          "metadata": {}
        },
        {
          "output_type": "display_data",
          "data": {
            "text/plain": [
              "<Figure size 640x480 with 2 Axes>"
            ],
            "image/png": "[encoded data removed]"
          },
          "metadata": {}
        }
      ],
      "source": [
        "# ساخت ماتریس درهم‌ریختگی\n",
        "conf_mat = confusion_matrix(vgg16_unique_targets, vgg16_unique_preds)\n",
        "\n",
        "# رسم ماتریس\n",
        "disp = ConfusionMatrixDisplay(confusion_matrix=conf_mat, display_labels=fc_encoder.classes_)\n",
        "plt.figure(figsize=(8, 6))\n",
        "disp.plot(cmap=plt.cm.Blues, xticks_rotation=45)\n",
        "plt.title(\"Confusion Matrix - VGG\")\n",
        "plt.show()"
      ]
    },
    {
      "cell_type": "markdown",
      "metadata": {
        "id": "_upS3t9O9KyV"
      },
      "source": [
        "#Feature Extraction with Alexnet"
      ]
    },
    {
      "cell_type": "code",
      "execution_count": null,
      "metadata": {
        "id": "VlFq4p6gVhDJ"
      },
      "outputs": [],
      "source": [
        "# تبدیل به فرمت PyTorch: (N, 3, 224, 224)\n",
        "train_images = np.transpose(train_images, (0, 3, 1, 2)).astype(np.float32)\n",
        "test_images = np.transpose(test_images, (0, 3, 1, 2)).astype(np.float32)"
      ]
    },
    {
      "cell_type": "code",
      "execution_count": null,
      "metadata": {
        "id": "Y48kI7a3VocS"
      },
      "outputs": [],
      "source": [
        "# ساخت DataLoader\n",
        "batch_size = 16\n",
        "train_dataset = TensorDataset(torch.tensor(train_images), torch.tensor(train_labels))\n",
        "test_dataset = TensorDataset(torch.tensor(test_images), torch.tensor(test_labels))\n",
        "train_loader = DataLoader(train_dataset, batch_size=batch_size, shuffle=False)\n",
        "test_loader = DataLoader(test_dataset, batch_size=batch_size, shuffle=False)"
      ]
    },
    {
      "cell_type": "code",
      "execution_count": null,
      "metadata": {
        "colab": {
          "base_uri": "https://localhost:8080/"
        },
        "id": "jw7yhLimVrZ3",
        "outputId": "7d7ffdc1-6960-4f60-f746-54856bcd5ac0"
      },
      "outputs": [
        {
          "name": "stderr",
          "output_type": "stream",
          "text": [
            "/usr/local/lib/python3.11/dist-packages/torchvision/models/_utils.py:208: UserWarning: The parameter 'pretrained' is deprecated since 0.13 and may be removed in the future, please use 'weights' instead.\n",
            "  warnings.warn(\n",
            "/usr/local/lib/python3.11/dist-packages/torchvision/models/_utils.py:223: UserWarning: Arguments other than a weight enum or `None` for 'weights' are deprecated since 0.13 and may be removed in the future. The current behavior is equivalent to passing `weights=AlexNet_Weights.IMAGENET1K_V1`. You can also use `weights=AlexNet_Weights.DEFAULT` to get the most up-to-date weights.\n",
            "  warnings.warn(msg)\n",
            "Downloading: \"https://download.pytorch.org/models/alexnet-owt-7be5be79.pth\" to /root/.cache/torch/hub/checkpoints/alexnet-owt-7be5be79.pth\n",
            "100%|██████████| 233M/233M [00:04<00:00, 50.6MB/s]\n"
          ]
        },
        {
          "data": {
            "text/plain": [
              "Sequential(\n",
              "  (0): Conv2d(3, 64, kernel_size=(11, 11), stride=(4, 4), padding=(2, 2))\n",
              "  (1): ReLU(inplace=True)\n",
              "  (2): MaxPool2d(kernel_size=3, stride=2, padding=0, dilation=1, ceil_mode=False)\n",
              "  (3): Conv2d(64, 192, kernel_size=(5, 5), stride=(1, 1), padding=(2, 2))\n",
              "  (4): ReLU(inplace=True)\n",
              "  (5): MaxPool2d(kernel_size=3, stride=2, padding=0, dilation=1, ceil_mode=False)\n",
              "  (6): Conv2d(192, 384, kernel_size=(3, 3), stride=(1, 1), padding=(1, 1))\n",
              "  (7): ReLU(inplace=True)\n",
              "  (8): Conv2d(384, 256, kernel_size=(3, 3), stride=(1, 1), padding=(1, 1))\n",
              "  (9): ReLU(inplace=True)\n",
              "  (10): Conv2d(256, 256, kernel_size=(3, 3), stride=(1, 1), padding=(1, 1))\n",
              "  (11): ReLU(inplace=True)\n",
              "  (12): MaxPool2d(kernel_size=3, stride=2, padding=0, dilation=1, ceil_mode=False)\n",
              ")"
            ]
          },
          "execution_count": 10,
          "metadata": {},
          "output_type": "execute_result"
        }
      ],
      "source": [
        "# بارگذاری AlexNet بدون FC layers\n",
        "alexnet = models.alexnet(pretrained=True)\n",
        "feature_extractor = nn.Sequential(*list(alexnet.features.children()))\n",
        "feature_extractor.to(device)\n",
        "feature_extractor.eval()"
      ]
    },
    {
      "cell_type": "code",
      "execution_count": null,
      "metadata": {
        "id": "s_rWYN-1Vubk"
      },
      "outputs": [],
      "source": [
        "# تابع استخراج ویژگی\n",
        "def extract_features(dataloader):\n",
        "    features_list = []\n",
        "    labels_list = []\n",
        "    with torch.no_grad():\n",
        "        for images, labels in dataloader:\n",
        "            images = images.to(device)\n",
        "            features = feature_extractor(images)\n",
        "            features = features.view(features.size(0), -1)  # Flatten\n",
        "            features_list.append(features.cpu().numpy())\n",
        "            labels_list.append(labels.cpu().numpy())\n",
        "    return np.concatenate(features_list), np.concatenate(labels_list)"
      ]
    },
    {
      "cell_type": "code",
      "execution_count": null,
      "metadata": {
        "id": "3RiT2rdcVzxg"
      },
      "outputs": [],
      "source": [
        "# استخراج ویژگی‌ها\n",
        "train_features, train_labels = extract_features(train_loader)\n",
        "test_features, test_labels = extract_features(test_loader)"
      ]
    },
    {
      "cell_type": "code",
      "execution_count": null,
      "metadata": {
        "colab": {
          "base_uri": "https://localhost:8080/"
        },
        "id": "6fI7aH7ZVx7l",
        "outputId": "f8fd71f7-4874-45bc-e50a-0663adf724a7"
      },
      "outputs": [
        {
          "name": "stdout",
          "output_type": "stream",
          "text": [
            "Train Features Shape: (4000, 9216)\n",
            "Test Features Shape: (1000, 9216)\n"
          ]
        }
      ],
      "source": [
        "# ذخیره ویژگی‌ها به صورت فشرده\n",
        "np.savez_compressed('alexnet_train_features.npz',\n",
        "                    features=train_features, labels=train_labels)\n",
        "\n",
        "np.savez_compressed('alexnet_test_features.npz',\n",
        "                    features=test_features, labels=test_labels)\n",
        "\n",
        "# نمایش اندازه ویژگی‌ها\n",
        "print(f\"Train Features Shape: {train_features.shape}\")\n",
        "print(f\"Test Features Shape: {test_features.shape}\")"
      ]
    },
    {
      "cell_type": "markdown",
      "metadata": {
        "id": "nWHpNzQJ-uwv"
      },
      "source": [
        "`Load AlexNet Features`"
      ]
    },
    {
      "cell_type": "code",
      "execution_count": null,
      "metadata": {
        "id": "pKV15jDI-nGI"
      },
      "outputs": [],
      "source": [
        "alexnet_train_data  = np.load('alexnet_train_features.npz')\n",
        "alexnet_test_data  = np.load( 'alexnet_test_features.npz')"
      ]
    },
    {
      "cell_type": "code",
      "execution_count": null,
      "metadata": {
        "colab": {
          "base_uri": "https://localhost:8080/"
        },
        "id": "RE_QXZ-G-k_x",
        "outputId": "3e61384d-8594-45ed-dba6-355d777b9cd1"
      },
      "outputs": [
        {
          "name": "stdout",
          "output_type": "stream",
          "text": [
            "Shape of features: (1000, 9216)\n"
          ]
        }
      ],
      "source": [
        "alexnet_train_features_unique  = alexnet_train_data['features']\n",
        "alexnet_train_labels_unique  = alexnet_train_data['labels']\n",
        "alexnet_test_features_unique  = alexnet_test_data['features']\n",
        "alexnet_test_labels_unique  = alexnet_test_data['labels']\n",
        "#الان (N, 3, 224, 224) اما برای الکس نت باید به شکل (1000, 256, 6, 6) در بیان\n",
        "print(f\"Shape of features: {test_features.shape}\")"
      ]
    },
    {
      "cell_type": "markdown",
      "metadata": {
        "id": "-nPbvGt1gpZo"
      },
      "source": [
        "#Train AlexNet Model (FC Layer)"
      ]
    },
    {
      "cell_type": "code",
      "execution_count": null,
      "metadata": {
        "id": "nssSgPA32E5S"
      },
      "outputs": [],
      "source": [
        "# تنظیمات کلی\n",
        "batch_size = 16\n",
        "num_epochs = 20\n",
        "learning_rate = 1e-4\n",
        "input_dim = 9216     # اگر VGG بود مثلا 25088، اگر EfficientNet بود شاید 1408\n"
      ]
    },
    {
      "cell_type": "code",
      "execution_count": null,
      "metadata": {
        "colab": {
          "base_uri": "https://localhost:8080/"
        },
        "id": "0XNfwrOnekuG",
        "outputId": "5b01da11-78a8-4992-9aaf-d651942da8fa"
      },
      "outputs": [
        {
          "data": {
            "text/plain": [
              "9216"
            ]
          },
          "execution_count": 18,
          "metadata": {},
          "output_type": "execute_result"
        }
      ],
      "source": [
        "alexnet_train_features_unique.shape[1]"
      ]
    },
    {
      "cell_type": "code",
      "execution_count": null,
      "metadata": {
        "id": "WCWB_SZ-jmNz"
      },
      "outputs": [],
      "source": [
        "# انکود کردن برچسب‌ها برای داشتن کلاس‌های 0 تا N-1\n",
        "label_encoder_alexnet = LabelEncoder()\n",
        "alexnet_train_labels_encoded_unique = label_encoder_alexnet.fit_transform(alexnet_train_labels_unique)\n",
        "alexnet_test_labels_encoded_unique = label_encoder_alexnet.transform(alexnet_test_labels_unique)\n",
        "num_classes_alexnet = len(label_encoder_alexnet.classes_)\n",
        "num_classes = num_classes_alexnet"
      ]
    },
    {
      "cell_type": "code",
      "execution_count": null,
      "metadata": {
        "id": "A1-RcTdx8yC_"
      },
      "outputs": [],
      "source": [
        "# تبدیل ویژگی‌ها به Tensor و انتقال به دستگاه (GPU یا CPU)\n",
        "alexnet_train_features_tensor_unique = torch.tensor(alexnet_train_features_unique, dtype=torch.float32)\n",
        "alexnet_train_labels_tensor_unique = torch.tensor(alexnet_train_labels_encoded_unique, dtype=torch.long)\n",
        "alexnet_test_features_tensor_unique = torch.tensor(alexnet_test_features_unique, dtype=torch.float32)\n",
        "alexnet_test_labels_tensor_unique = torch.tensor(alexnet_test_labels_encoded_unique, dtype=torch.long)"
      ]
    },
    {
      "cell_type": "code",
      "execution_count": null,
      "metadata": {
        "id": "XhDn_CPU81Rv"
      },
      "outputs": [],
      "source": [
        "# ساخت DataLoader\n",
        "batch_size_alexnet = 16\n",
        "alexnet_train_dataset = TensorDataset(alexnet_train_features_tensor_unique, alexnet_train_labels_tensor_unique)\n",
        "alexnet_test_dataset = TensorDataset(alexnet_test_features_tensor_unique, alexnet_test_labels_tensor_unique)\n",
        "\n",
        "alexnet_train_loader = DataLoader(alexnet_train_dataset, batch_size=batch_size_alexnet, shuffle=True)\n",
        "alexnet_test_loader = DataLoader(alexnet_test_dataset, batch_size=batch_size_alexnet, shuffle=False)"
      ]
    },
    {
      "cell_type": "code",
      "execution_count": null,
      "metadata": {
        "id": "rtr70N9284SK"
      },
      "outputs": [],
      "source": [
        "# تعریف مدل FC بر اساس معماری AlexNet\n",
        "class AlexNetUniqueClassifier(nn.Module):\n",
        "    def __init__(self, input_dim, num_classes):\n",
        "        super(AlexNetUniqueClassifier, self).__init__()\n",
        "        self.classifier = nn.Sequential(\n",
        "            nn.Dropout(),\n",
        "            nn.Linear(input_dim, 4096),\n",
        "            nn.ReLU(inplace=True),\n",
        "            nn.Dropout(),\n",
        "            nn.Linear(4096, 4096),\n",
        "            nn.ReLU(inplace=True),\n",
        "            nn.Linear(4096, num_classes)\n",
        "        )\n",
        "\n",
        "    def forward(self, x):\n",
        "        return self.classifier(x)\n",
        "\n",
        "# دستگاه\n",
        "alexnet_unique_device = torch.device(\"cuda\" if torch.cuda.is_available() else \"cpu\")\n",
        "alexnet_unique_model = AlexNetUniqueClassifier(\n",
        "    input_dim=alexnet_train_features_unique.shape[1],\n",
        "    num_classes=10\n",
        ").to(alexnet_unique_device)\n"
      ]
    },
    {
      "cell_type": "code",
      "execution_count": null,
      "metadata": {
        "id": "b-qoBqJqE3Va"
      },
      "outputs": [],
      "source": [
        "# آموزش\n",
        "alexnet_unique_criterion = nn.CrossEntropyLoss()\n",
        "alexnet_unique_optimizer = optim.Adam(alexnet_unique_model.parameters(), lr=1e-4)\n",
        "alexnet_unique_epochs = 20"
      ]
    },
    {
      "cell_type": "code",
      "execution_count": null,
      "metadata": {
        "colab": {
          "base_uri": "https://localhost:8080/"
        },
        "id": "PNn6SMlvFzFn",
        "outputId": "052ea1ec-b0f4-419c-d783-8f49ad17819d"
      },
      "outputs": [
        {
          "name": "stdout",
          "output_type": "stream",
          "text": [
            "[AlexNet] Epoch 1/20, Loss: 409.7546\n",
            "[AlexNet] Epoch 2/20, Loss: 244.0266\n",
            "[AlexNet] Epoch 3/20, Loss: 174.7101\n",
            "[AlexNet] Epoch 4/20, Loss: 144.1529\n",
            "[AlexNet] Epoch 5/20, Loss: 116.2978\n",
            "[AlexNet] Epoch 6/20, Loss: 101.0291\n",
            "[AlexNet] Epoch 7/20, Loss: 84.3162\n",
            "[AlexNet] Epoch 8/20, Loss: 73.8005\n",
            "[AlexNet] Epoch 9/20, Loss: 61.4698\n",
            "[AlexNet] Epoch 10/20, Loss: 60.8608\n",
            "[AlexNet] Epoch 11/20, Loss: 53.1380\n",
            "[AlexNet] Epoch 12/20, Loss: 46.1229\n",
            "[AlexNet] Epoch 13/20, Loss: 41.5197\n",
            "[AlexNet] Epoch 14/20, Loss: 45.1431\n",
            "[AlexNet] Epoch 15/20, Loss: 38.6185\n",
            "[AlexNet] Epoch 16/20, Loss: 35.8876\n",
            "[AlexNet] Epoch 17/20, Loss: 32.4776\n",
            "[AlexNet] Epoch 18/20, Loss: 26.0721\n",
            "[AlexNet] Epoch 19/20, Loss: 31.2909\n",
            "[AlexNet] Epoch 20/20, Loss: 31.6251\n"
          ]
        }
      ],
      "source": [
        "for epoch in range(alexnet_unique_epochs):\n",
        "    alexnet_unique_model.train()\n",
        "    total_loss = 0\n",
        "    for x_batch, y_batch in alexnet_train_loader:\n",
        "        x_batch, y_batch = x_batch.to(alexnet_unique_device), y_batch.to(alexnet_unique_device)\n",
        "        alexnet_unique_optimizer.zero_grad()\n",
        "        outputs = alexnet_unique_model(x_batch)\n",
        "        loss = alexnet_unique_criterion(outputs, y_batch)\n",
        "        loss.backward()\n",
        "        alexnet_unique_optimizer.step()\n",
        "        total_loss += loss.item()\n",
        "    print(f\"[AlexNet] Epoch {epoch+1}/{alexnet_unique_epochs}, Loss: {total_loss:.4f}\")\n"
      ]
    },
    {
      "cell_type": "code",
      "execution_count": null,
      "metadata": {
        "colab": {
          "base_uri": "https://localhost:8080/"
        },
        "id": "0goQ7vUz9KNe",
        "outputId": "4e693456-e514-4794-bf5a-713d97be7efd"
      },
      "outputs": [
        {
          "name": "stdout",
          "output_type": "stream",
          "text": [
            "\n",
            "[AlexNet Unique Evaluation Results]\n",
            "Accuracy: 0.8060\n",
            "Precision: 0.8083\n",
            "Recall: 0.8060\n",
            "F1 Score: 0.8038\n"
          ]
        }
      ],
      "source": [
        "# ارزیابی\n",
        "alexnet_unique_model.eval()\n",
        "alexnet_unique_preds = []\n",
        "alexnet_unique_targets = []\n",
        "\n",
        "with torch.no_grad():\n",
        "    for x_batch, y_batch in alexnet_test_loader:\n",
        "        x_batch = x_batch.to(alexnet_unique_device)\n",
        "        outputs = alexnet_unique_model(x_batch)\n",
        "        _, preds = torch.max(outputs, 1)\n",
        "        alexnet_unique_preds.extend(preds.cpu().numpy())\n",
        "        alexnet_unique_targets.extend(y_batch.numpy())\n",
        "\n",
        "# متریک‌ها\n",
        "alexnet_unique_acc = accuracy_score(alexnet_unique_targets, alexnet_unique_preds)\n",
        "alexnet_unique_prec = precision_score(alexnet_unique_targets, alexnet_unique_preds, average='weighted')\n",
        "alexnet_unique_rec = recall_score(alexnet_unique_targets, alexnet_unique_preds, average='weighted')\n",
        "alexnet_unique_f1 = f1_score(alexnet_unique_targets, alexnet_unique_preds, average='weighted')\n",
        "\n",
        "print(f\"\\n[AlexNet Unique Evaluation Results]\")\n",
        "print(f\"Accuracy: {alexnet_unique_acc:.4f}\")\n",
        "print(f\"Precision: {alexnet_unique_prec:.4f}\")\n",
        "print(f\"Recall: {alexnet_unique_rec:.4f}\")\n",
        "print(f\"F1 Score: {alexnet_unique_f1:.4f}\")"
      ]
    },
    {
      "cell_type": "code",
      "execution_count": null,
      "metadata": {
        "colab": {
          "base_uri": "https://localhost:8080/",
          "height": 564
        },
        "id": "ruUiex19gs5k",
        "outputId": "8f953c3b-8d45-4ea1-8299-645088b6ce30"
      },
      "outputs": [
        {
          "data": {
            "image/png": "[encoded data removed]",
            "text/plain": [
              "<Figure size 800x600 with 2 Axes>"
            ]
          },
          "metadata": {},
          "output_type": "display_data"
        }
      ],
      "source": [
        "# محاسبه ماتریس آشفتگی\n",
        "cm = confusion_matrix(alexnet_unique_targets, alexnet_unique_preds)\n",
        "\n",
        "# رسم ماتریس آشفتگی\n",
        "plt.figure(figsize=(8,6))\n",
        "sns.heatmap(cm, annot=True, fmt=\"d\", cmap=\"Blues\", xticklabels=label_encoder_alexnet.classes_, yticklabels=label_encoder_alexnet.classes_)\n",
        "plt.title('Confusion Matrix for AlexNet Model')\n",
        "plt.xlabel('Predicted Labels')\n",
        "plt.ylabel('True Labels')\n",
        "plt.show()\n"
      ]
    },
    {
      "cell_type": "code",
      "execution_count": null,
      "metadata": {
        "id": "aavPpeRA4pFF"
      },
      "outputs": [],
      "source": [
        "del alexnet_unique_preds\n",
        "del alexnet_unique_targets"
      ]
    },
    {
      "cell_type": "markdown",
      "metadata": {
        "id": "IKBNvByEksDc"
      },
      "source": [
        "#CNN Model"
      ]
    },
    {
      "cell_type": "code",
      "execution_count": null,
      "metadata": {
        "id": "qA9YyCZvlmY8"
      },
      "outputs": [],
      "source": [
        "# بازکدگذاری لیبل‌های ناپیوسته\n",
        "cnn_label_encoder = LabelEncoder()\n",
        "train_labels_encoded = cnn_label_encoder.fit_transform(train_labels)\n",
        "test_labels_encoded = cnn_label_encoder.transform(test_labels)\n",
        "num_classes = len(cnn_label_encoder.classes_)"
      ]
    },
    {
      "cell_type": "code",
      "execution_count": null,
      "metadata": {
        "id": "WzoXI-35ojF5"
      },
      "outputs": [],
      "source": [
        "\n",
        "# One-hot encoding برای مدل\n",
        "y_train_cat = to_categorical(train_labels_encoded, num_classes)\n",
        "y_test_cat = to_categorical(test_labels_encoded, num_classes)"
      ]
    },
    {
      "cell_type": "code",
      "execution_count": null,
      "metadata": {
        "id": "7pePk-lZINkF"
      },
      "outputs": [],
      "source": [
        "from tensorflow.keras.layers import Input\n"
      ]
    },
    {
      "cell_type": "code",
      "execution_count": null,
      "metadata": {
        "id": "_x-kugw4lq9H"
      },
      "outputs": [],
      "source": [
        "# تعریف مدل CNN ساده\n",
        "model = Sequential([\n",
        "    Input(shape=(224, 224, 3)),\n",
        "    # تغییر اندازه تصاویر به 224x224\n",
        "    Conv2D(32, (3, 3), activation='relu'),\n",
        "    MaxPooling2D(pool_size=(2, 2)),\n",
        "\n",
        "    Conv2D(64, (3, 3), activation='relu'),\n",
        "    MaxPooling2D(pool_size=(2, 2)),\n",
        "\n",
        "    Conv2D(128, (3, 3), activation='relu'),\n",
        "    MaxPooling2D(pool_size=(2, 2)),\n",
        "\n",
        "    Flatten(),\n",
        "    Dense(256, activation='relu'),\n",
        "    Dropout(0.5),\n",
        "    Dense(num_classes, activation='softmax')\n",
        "])\n",
        "\n",
        "# کامپایل مدل\n",
        "model.compile(optimizer=Adam(),\n",
        "              loss='categorical_crossentropy',\n",
        "              metrics=['accuracy'])"
      ]
    },
    {
      "cell_type": "code",
      "execution_count": null,
      "metadata": {
        "colab": {
          "base_uri": "https://localhost:8080/"
        },
        "id": "bLruJs-BfS0g",
        "outputId": "7ce1b83e-b4d3-4d03-952f-201485fdaf3f"
      },
      "outputs": [
        {
          "output_type": "stream",
          "name": "stdout",
          "text": [
            "Epoch 1/20\n",
            "\u001b[1m225/225\u001b[0m \u001b[32m━━━━━━━━━━━━━━━━━━━━\u001b[0m\u001b[37m\u001b[0m \u001b[1m448s\u001b[0m 2s/step - accuracy: 0.1813 - loss: 2.3209 - val_accuracy: 0.0000e+00 - val_loss: 8.1406\n",
            "Epoch 2/20\n",
            "\u001b[1m225/225\u001b[0m \u001b[32m━━━━━━━━━━━━━━━━━━━━\u001b[0m\u001b[37m\u001b[0m \u001b[1m412s\u001b[0m 2s/step - accuracy: 0.3799 - loss: 1.6721 - val_accuracy: 0.0000e+00 - val_loss: 8.7650\n",
            "Epoch 3/20\n",
            "\u001b[1m225/225\u001b[0m \u001b[32m━━━━━━━━━━━━━━━━━━━━\u001b[0m\u001b[37m\u001b[0m \u001b[1m455s\u001b[0m 2s/step - accuracy: 0.5813 - loss: 1.1988 - val_accuracy: 0.0000e+00 - val_loss: 13.6876\n",
            "Epoch 4/20\n",
            "\u001b[1m225/225\u001b[0m \u001b[32m━━━━━━━━━━━━━━━━━━━━\u001b[0m\u001b[37m\u001b[0m \u001b[1m442s\u001b[0m 2s/step - accuracy: 0.7427 - loss: 0.7377 - val_accuracy: 0.0000e+00 - val_loss: 21.8349\n",
            "Epoch 5/20\n",
            "\u001b[1m225/225\u001b[0m \u001b[32m━━━━━━━━━━━━━━━━━━━━\u001b[0m\u001b[37m\u001b[0m \u001b[1m432s\u001b[0m 2s/step - accuracy: 0.8529 - loss: 0.4502 - val_accuracy: 0.0000e+00 - val_loss: 23.2288\n",
            "Epoch 6/20\n",
            "\u001b[1m225/225\u001b[0m \u001b[32m━━━━━━━━━━━━━━━━━━━━\u001b[0m\u001b[37m\u001b[0m \u001b[1m450s\u001b[0m 2s/step - accuracy: 0.9054 - loss: 0.2977 - val_accuracy: 0.0000e+00 - val_loss: 25.5021\n",
            "Epoch 7/20\n",
            "\u001b[1m225/225\u001b[0m \u001b[32m━━━━━━━━━━━━━━━━━━━━\u001b[0m\u001b[37m\u001b[0m \u001b[1m441s\u001b[0m 2s/step - accuracy: 0.9302 - loss: 0.1971 - val_accuracy: 0.0000e+00 - val_loss: 29.7606\n",
            "Epoch 8/20\n",
            "\u001b[1m225/225\u001b[0m \u001b[32m━━━━━━━━━━━━━━━━━━━━\u001b[0m\u001b[37m\u001b[0m \u001b[1m442s\u001b[0m 2s/step - accuracy: 0.9588 - loss: 0.1582 - val_accuracy: 0.0000e+00 - val_loss: 28.8648\n",
            "Epoch 9/20\n",
            "\u001b[1m225/225\u001b[0m \u001b[32m━━━━━━━━━━━━━━━━━━━━\u001b[0m\u001b[37m\u001b[0m \u001b[1m446s\u001b[0m 2s/step - accuracy: 0.9547 - loss: 0.1429 - val_accuracy: 0.0000e+00 - val_loss: 27.2656\n",
            "Epoch 10/20\n",
            "\u001b[1m225/225\u001b[0m \u001b[32m━━━━━━━━━━━━━━━━━━━━\u001b[0m\u001b[37m\u001b[0m \u001b[1m432s\u001b[0m 2s/step - accuracy: 0.9735 - loss: 0.1027 - val_accuracy: 0.0000e+00 - val_loss: 28.0843\n",
            "Epoch 11/20\n",
            "\u001b[1m225/225\u001b[0m \u001b[32m━━━━━━━━━━━━━━━━━━━━\u001b[0m\u001b[37m\u001b[0m \u001b[1m426s\u001b[0m 2s/step - accuracy: 0.9650 - loss: 0.1070 - val_accuracy: 0.0000e+00 - val_loss: 32.4743\n",
            "Epoch 12/20\n",
            "\u001b[1m225/225\u001b[0m \u001b[32m━━━━━━━━━━━━━━━━━━━━\u001b[0m\u001b[37m\u001b[0m \u001b[1m444s\u001b[0m 2s/step - accuracy: 0.9758 - loss: 0.0851 - val_accuracy: 0.0000e+00 - val_loss: 28.7990\n",
            "Epoch 13/20\n",
            "\u001b[1m225/225\u001b[0m \u001b[32m━━━━━━━━━━━━━━━━━━━━\u001b[0m\u001b[37m\u001b[0m \u001b[1m418s\u001b[0m 2s/step - accuracy: 0.9694 - loss: 0.1101 - val_accuracy: 0.0000e+00 - val_loss: 32.3684\n",
            "Epoch 14/20\n",
            "\u001b[1m225/225\u001b[0m \u001b[32m━━━━━━━━━━━━━━━━━━━━\u001b[0m\u001b[37m\u001b[0m \u001b[1m448s\u001b[0m 2s/step - accuracy: 0.9752 - loss: 0.0812 - val_accuracy: 0.0000e+00 - val_loss: 28.0345\n",
            "Epoch 15/20\n",
            "\u001b[1m225/225\u001b[0m \u001b[32m━━━━━━━━━━━━━━━━━━━━\u001b[0m\u001b[37m\u001b[0m \u001b[1m446s\u001b[0m 2s/step - accuracy: 0.9888 - loss: 0.0542 - val_accuracy: 0.0000e+00 - val_loss: 36.5840\n",
            "Epoch 16/20\n",
            "\u001b[1m225/225\u001b[0m \u001b[32m━━━━━━━━━━━━━━━━━━━━\u001b[0m\u001b[37m\u001b[0m \u001b[1m416s\u001b[0m 2s/step - accuracy: 0.9787 - loss: 0.0577 - val_accuracy: 0.0000e+00 - val_loss: 34.8762\n",
            "Epoch 17/20\n",
            "\u001b[1m225/225\u001b[0m \u001b[32m━━━━━━━━━━━━━━━━━━━━\u001b[0m\u001b[37m\u001b[0m \u001b[1m451s\u001b[0m 2s/step - accuracy: 0.9802 - loss: 0.0701 - val_accuracy: 0.0000e+00 - val_loss: 31.5136\n",
            "Epoch 18/20\n",
            "\u001b[1m225/225\u001b[0m \u001b[32m━━━━━━━━━━━━━━━━━━━━\u001b[0m\u001b[37m\u001b[0m \u001b[1m434s\u001b[0m 2s/step - accuracy: 0.9823 - loss: 0.0555 - val_accuracy: 0.0000e+00 - val_loss: 34.6451\n",
            "Epoch 19/20\n",
            "\u001b[1m225/225\u001b[0m \u001b[32m━━━━━━━━━━━━━━━━━━━━\u001b[0m\u001b[37m\u001b[0m \u001b[1m451s\u001b[0m 2s/step - accuracy: 0.9791 - loss: 0.0642 - val_accuracy: 0.0000e+00 - val_loss: 28.4907\n",
            "Epoch 20/20\n",
            "\u001b[1m225/225\u001b[0m \u001b[32m━━━━━━━━━━━━━━━━━━━━\u001b[0m\u001b[37m\u001b[0m \u001b[1m430s\u001b[0m 2s/step - accuracy: 0.9833 - loss: 0.0577 - val_accuracy: 0.0000e+00 - val_loss: 28.8626\n"
          ]
        },
        {
          "output_type": "execute_result",
          "data": {
            "text/plain": [
              "<keras.src.callbacks.history.History at 0x7f5290411f50>"
            ]
          },
          "metadata": {},
          "execution_count": 31
        }
      ],
      "source": [
        "model.fit(train_images, y_train_cat,\n",
        "          epochs=20,\n",
        "          batch_size=16,\n",
        "          validation_split=0.1)"
      ]
    },
    {
      "cell_type": "code",
      "execution_count": null,
      "metadata": {
        "colab": {
          "base_uri": "https://localhost:8080/"
        },
        "id": "0X3uMvtelz8D",
        "outputId": "d70f1dc4-15c4-4135-d445-16aaa90ab9d2"
      },
      "outputs": [
        {
          "output_type": "stream",
          "name": "stdout",
          "text": [
            "\u001b[1m32/32\u001b[0m \u001b[32m━━━━━━━━━━━━━━━━━━━━\u001b[0m\u001b[37m\u001b[0m \u001b[1m35s\u001b[0m 953ms/step\n",
            "\u001b[1m32/32\u001b[0m \u001b[32m━━━━━━━━━━━━━━━━━━━━\u001b[0m\u001b[37m\u001b[0m \u001b[1m29s\u001b[0m 911ms/step - accuracy: 0.4728 - loss: 3.2582\n",
            "Test Accuracy: 0.5419999957084656\n"
          ]
        }
      ],
      "source": [
        "# پیش‌بینی روی داده تست\n",
        "y_pred_probs = model.predict(test_images)\n",
        "y_pred_encoded = np.argmax(y_pred_probs, axis=1)\n",
        "\n",
        "# ارزیابی کلی مدل\n",
        "test_loss, test_acc = model.evaluate(test_images, y_test_cat)\n",
        "print(f'Test Accuracy: {test_acc}')"
      ]
    },
    {
      "cell_type": "code",
      "execution_count": null,
      "metadata": {
        "colab": {
          "base_uri": "https://localhost:8080/"
        },
        "id": "uo0U8b0al2Ez",
        "outputId": "48cefceb-50ad-44e1-8318-abb56a33c146"
      },
      "outputs": [
        {
          "output_type": "stream",
          "name": "stdout",
          "text": [
            " نتایج ارزیابی مدل CNN:\n",
            "Accuracy:  0.5420\n",
            "Precision: 0.4927\n",
            "Recall:    0.5420\n",
            "F1 Score:  0.5114\n"
          ]
        },
        {
          "output_type": "stream",
          "name": "stderr",
          "text": [
            "/usr/local/lib/python3.11/dist-packages/sklearn/metrics/_classification.py:1565: UndefinedMetricWarning: Precision is ill-defined and being set to 0.0 in labels with no predicted samples. Use `zero_division` parameter to control this behavior.\n",
            "  _warn_prf(average, modifier, f\"{metric.capitalize()} is\", len(result))\n"
          ]
        }
      ],
      "source": [
        "# معیارهای ارزیابی\n",
        "acc = accuracy_score(test_labels_encoded, y_pred_encoded)\n",
        "prec = precision_score(test_labels_encoded, y_pred_encoded, average='macro')\n",
        "rec = recall_score(test_labels_encoded, y_pred_encoded, average='macro')\n",
        "f1 = f1_score(test_labels_encoded, y_pred_encoded, average='macro')\n",
        "\n",
        "\n",
        "print(\" نتایج ارزیابی مدل CNN:\")\n",
        "print(f\"Accuracy:  {acc:.4f}\")\n",
        "print(f\"Precision: {prec:.4f}\")\n",
        "print(f\"Recall:    {rec:.4f}\")\n",
        "print(f\"F1 Score:  {f1:.4f}\")"
      ]
    },
    {
      "cell_type": "markdown",
      "metadata": {
        "id": "Qh1xRzDImGbU"
      },
      "source": [
        "`Confusion Matrix`"
      ]
    },
    {
      "cell_type": "code",
      "execution_count": null,
      "metadata": {
        "colab": {
          "base_uri": "https://localhost:8080/",
          "height": 607
        },
        "id": "VRBp8R87mFux",
        "outputId": "c2a23ea8-5e0e-4358-b406-5a78c24d10c2"
      },
      "outputs": [
        {
          "output_type": "display_data",
          "data": {
            "text/plain": [
              "<Figure size 800x600 with 2 Axes>"
            ],
            "image/png": "[encoded data removed]"
          },
          "metadata": {}
        }
      ],
      "source": [
        "# رسم ماتریس آشفتگی\n",
        "cm = confusion_matrix(test_labels_encoded, y_pred_encoded)\n",
        "plt.figure(figsize=(8,6))\n",
        "sns.heatmap(cm, annot=True, fmt='d', cmap='Blues',\n",
        "            xticklabels=cnn_label_encoder.classes_,\n",
        "            yticklabels=cnn_label_encoder.classes_)\n",
        "plt.xlabel('Predicted Label')\n",
        "plt.ylabel('True Label')\n",
        "plt.title('Confusion Matrix')\n",
        "plt.tight_layout()\n",
        "plt.show()"
      ]
    }
  ],
  "metadata": {
    "colab": {
      "provenance": [],
      "gpuType": "T4"
    },
    "kernelspec": {
      "display_name": "Python 3",
      "name": "python3"
    },
    "language_info": {
      "name": "python"
    },
    "accelerator": "GPU"
  },
  "nbformat": 4,
  "nbformat_minor": 0
}